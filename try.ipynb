{
  "nbformat": 4,
  "nbformat_minor": 0,
  "metadata": {
    "colab": {
      "provenance": [],
      "authorship_tag": "ABX9TyO0WocPUDCKT572bX7uJJmt",
      "include_colab_link": true
    },
    "kernelspec": {
      "name": "python3",
      "display_name": "Python 3"
    },
    "language_info": {
      "name": "python"
    }
  },
  "cells": [
    {
      "cell_type": "markdown",
      "metadata": {
        "id": "view-in-github",
        "colab_type": "text"
      },
      "source": [
        "<a href=\"https://colab.research.google.com/github/monishvarghesejoshy/Data-Science-Practicum-Project-House-Price-Prediction/blob/main/try.ipynb\" target=\"_parent\"><img src=\"https://colab.research.google.com/assets/colab-badge.svg\" alt=\"Open In Colab\"/></a>"
      ]
    },
    {
      "cell_type": "code",
      "execution_count": null,
      "metadata": {
        "colab": {
          "base_uri": "https://localhost:8080/"
        },
        "id": "itmhnNIyGFpo",
        "outputId": "7fd37609-b7c9-435b-db64-c10d3aa42eac"
      },
      "outputs": [
        {
          "output_type": "stream",
          "name": "stdout",
          "text": [
            "2.5\n"
          ]
        }
      ],
      "source": [
        "p=10\n",
        "q=4\n",
        "z=p/q\n",
        "print (z)"
      ]
    },
    {
      "cell_type": "code",
      "source": [
        "input1=int(input(\"enter first digit\"))\n",
        "\n",
        "match input1:\n",
        "    case 1:\n",
        "        print(\"one\")\n",
        "    case 2:\n",
        "        print(\"two\")\n",
        "    case 3:\n",
        "        print(\"three\")\n",
        "    case 4:\n",
        "        print(\"four\")\n",
        "    case 5:\n",
        "        print(\"five\")\n",
        "    case _ :\n",
        "        print(\"invalid\")\n"
      ],
      "metadata": {
        "colab": {
          "base_uri": "https://localhost:8080/"
        },
        "id": "IXgPfV6PgTm5",
        "outputId": "fc7e94e9-aaf9-4507-c8fe-b6406db42da7"
      },
      "execution_count": null,
      "outputs": [
        {
          "output_type": "stream",
          "name": "stdout",
          "text": [
            "enter first digit8\n",
            "invalid\n"
          ]
        }
      ]
    },
    {
      "cell_type": "code",
      "source": [
        "a=[1,2,3,4,5]\n",
        "for i in a:\n",
        "    if i%2==1:\n",
        "        print(i ,\"is odd\")\n",
        "    else:\n",
        "        print(i, \"is even\")"
      ],
      "metadata": {
        "colab": {
          "base_uri": "https://localhost:8080/"
        },
        "id": "KOfBCNZ6g-8s",
        "outputId": "e8745134-67ec-4a04-8eb7-86ba9637df57"
      },
      "execution_count": null,
      "outputs": [
        {
          "output_type": "stream",
          "name": "stdout",
          "text": [
            "1 is odd\n",
            "2 is even\n",
            "3 is odd\n",
            "4 is even\n",
            "5 is odd\n"
          ]
        }
      ]
    },
    {
      "cell_type": "code",
      "source": [
        "for i in range(2,30,1):\n",
        "  for j in range(2,i):\n",
        "     if (i%j) == 0:\n",
        "      print(i, \"is not a prime\")\n",
        "      break\n",
        "  else:\n",
        "    print(i, \"is a prime\")\n"
      ],
      "metadata": {
        "colab": {
          "base_uri": "https://localhost:8080/"
        },
        "id": "HbXh3EGSqQyZ",
        "outputId": "440590da-04af-4a72-dc52-385b3e08b242"
      },
      "execution_count": null,
      "outputs": [
        {
          "output_type": "stream",
          "name": "stdout",
          "text": [
            "2 is a prime\n",
            "3 is a prime\n",
            "4 is not a prime\n",
            "5 is a prime\n",
            "6 is not a prime\n",
            "7 is a prime\n",
            "8 is not a prime\n",
            "9 is not a prime\n",
            "10 is not a prime\n",
            "11 is a prime\n",
            "12 is not a prime\n",
            "13 is a prime\n",
            "14 is not a prime\n",
            "15 is not a prime\n",
            "16 is not a prime\n",
            "17 is a prime\n",
            "18 is not a prime\n",
            "19 is a prime\n",
            "20 is not a prime\n",
            "21 is not a prime\n",
            "22 is not a prime\n",
            "23 is a prime\n",
            "24 is not a prime\n",
            "25 is not a prime\n",
            "26 is not a prime\n",
            "27 is not a prime\n",
            "28 is not a prime\n",
            "29 is a prime\n"
          ]
        }
      ]
    },
    {
      "cell_type": "code",
      "source": [
        "x=1\n",
        "while x<7:\n",
        "\n",
        "  print (x)\n",
        "\n",
        "  x+=1\n"
      ],
      "metadata": {
        "colab": {
          "base_uri": "https://localhost:8080/"
        },
        "id": "WYeGeYB4tgRb",
        "outputId": "a679d0fd-1d30-4910-8806-52460354c513"
      },
      "execution_count": null,
      "outputs": [
        {
          "output_type": "stream",
          "name": "stdout",
          "text": [
            "1\n",
            "2\n",
            "3\n",
            "4\n",
            "5\n",
            "6\n"
          ]
        }
      ]
    },
    {
      "cell_type": "code",
      "source": [
        "def ab(x):\n",
        "     if ( x <0):\n",
        "        y= x*-1\n",
        "     else:\n",
        "       y=x\n",
        "     return(y)\n",
        "ab(7)\n",
        "\n"
      ],
      "metadata": {
        "colab": {
          "base_uri": "https://localhost:8080/"
        },
        "id": "Cc3hS6Nl1KeW",
        "outputId": "cda3564f-01c4-4c83-ac1e-d176e69124ff"
      },
      "execution_count": null,
      "outputs": [
        {
          "output_type": "execute_result",
          "data": {
            "text/plain": [
              "7"
            ]
          },
          "metadata": {},
          "execution_count": 26
        }
      ]
    },
    {
      "cell_type": "code",
      "source": [
        "def sum(n):\n",
        "  result=0\n",
        "  for i in range(1, n+1):\n",
        "        result=result+i\n",
        "        i=i+1\n",
        "  return(result)\n",
        "sum(6)"
      ],
      "metadata": {
        "colab": {
          "base_uri": "https://localhost:8080/"
        },
        "id": "cOAuXeGe4LFS",
        "outputId": "346e5d9e-6b0f-496e-c448-ff5d8ef0b214"
      },
      "execution_count": null,
      "outputs": [
        {
          "output_type": "execute_result",
          "data": {
            "text/plain": [
              "21"
            ]
          },
          "metadata": {},
          "execution_count": 53
        }
      ]
    },
    {
      "cell_type": "code",
      "source": [
        "name='Jacob'\n",
        "'a' in name"
      ],
      "metadata": {
        "colab": {
          "base_uri": "https://localhost:8080/"
        },
        "id": "Eg8bGsRtBnI6",
        "outputId": "ee0400a6-a1f2-4441-f986-666f94fbbab1"
      },
      "execution_count": null,
      "outputs": [
        {
          "output_type": "execute_result",
          "data": {
            "text/plain": [
              "True"
            ]
          },
          "metadata": {},
          "execution_count": 54
        }
      ]
    },
    {
      "cell_type": "code",
      "source": [
        "word = '''God\n",
        "is Love'''\n",
        "\"Love\" in word"
      ],
      "metadata": {
        "colab": {
          "base_uri": "https://localhost:8080/"
        },
        "id": "nmWjH-7qB58A",
        "outputId": "67e5feff-582d-41f5-bedb-39df4b34228b"
      },
      "execution_count": null,
      "outputs": [
        {
          "output_type": "execute_result",
          "data": {
            "text/plain": [
              "True"
            ]
          },
          "metadata": {},
          "execution_count": 55
        }
      ]
    },
    {
      "cell_type": "code",
      "source": [
        "st=''' Work Hard and Work Smart'''\n",
        "for c in st:\n",
        "     print( c)"
      ],
      "metadata": {
        "colab": {
          "base_uri": "https://localhost:8080/"
        },
        "id": "f_UI_jkVNjDu",
        "outputId": "01428d8b-0d0c-4ef6-e199-dcd5c67d013d"
      },
      "execution_count": null,
      "outputs": [
        {
          "output_type": "stream",
          "name": "stdout",
          "text": [
            " \n",
            "W\n",
            "o\n",
            "r\n",
            "k\n",
            " \n",
            "H\n",
            "a\n",
            "r\n",
            "d\n",
            " \n",
            "a\n",
            "n\n",
            "d\n",
            " \n",
            "W\n",
            "o\n",
            "r\n",
            "k\n",
            " \n",
            "S\n",
            "m\n",
            "a\n",
            "r\n",
            "t\n"
          ]
        }
      ]
    },
    {
      "cell_type": "code",
      "source": [
        "s1=\"Hello \"\n",
        "s2=s1.strip()\n",
        "s2"
      ],
      "metadata": {
        "colab": {
          "base_uri": "https://localhost:8080/",
          "height": 35
        },
        "id": "heFqIOd7ZN3g",
        "outputId": "25df302c-8568-421f-b4df-efd6a3a5c6ae"
      },
      "execution_count": null,
      "outputs": [
        {
          "output_type": "execute_result",
          "data": {
            "text/plain": [
              "'Hello'"
            ],
            "application/vnd.google.colaboratory.intrinsic+json": {
              "type": "string"
            }
          },
          "metadata": {},
          "execution_count": 8
        }
      ]
    },
    {
      "cell_type": "code",
      "source": [
        "s1.replace(\"He\",\"ha\")"
      ],
      "metadata": {
        "colab": {
          "base_uri": "https://localhost:8080/",
          "height": 35
        },
        "id": "MXKSpW4AZjZm",
        "outputId": "65816e1c-4c04-4cfd-c362-88843ecfc6ee"
      },
      "execution_count": null,
      "outputs": [
        {
          "output_type": "execute_result",
          "data": {
            "text/plain": [
              "'hallo '"
            ],
            "application/vnd.google.colaboratory.intrinsic+json": {
              "type": "string"
            }
          },
          "metadata": {},
          "execution_count": 12
        }
      ]
    },
    {
      "cell_type": "code",
      "source": [
        "dict1={'Name': 'Monish', 'Age':41, 'Gender':'Male'}\n",
        "dict1"
      ],
      "metadata": {
        "colab": {
          "base_uri": "https://localhost:8080/"
        },
        "id": "pK-mmsHSGJnS",
        "outputId": "d7379bf0-ea52-440a-dadf-2937ca65d315"
      },
      "execution_count": null,
      "outputs": [
        {
          "output_type": "execute_result",
          "data": {
            "text/plain": [
              "{'Name': 'Monish', 'Age': 41, 'Gender': 'Male'}"
            ]
          },
          "metadata": {},
          "execution_count": 1
        }
      ]
    },
    {
      "cell_type": "code",
      "source": [
        "dict1.keys()"
      ],
      "metadata": {
        "colab": {
          "base_uri": "https://localhost:8080/"
        },
        "id": "P1FFjui_GZ7L",
        "outputId": "6273c8b3-7862-4c8b-de4c-28686c49d342"
      },
      "execution_count": null,
      "outputs": [
        {
          "output_type": "execute_result",
          "data": {
            "text/plain": [
              "dict_keys(['Name', 'Age', 'Gender'])"
            ]
          },
          "metadata": {},
          "execution_count": 2
        }
      ]
    },
    {
      "cell_type": "code",
      "source": [
        "dict1.values()"
      ],
      "metadata": {
        "colab": {
          "base_uri": "https://localhost:8080/"
        },
        "id": "ND1N6vB-Ge8h",
        "outputId": "8e378a5a-fb92-44f3-bc40-058fdc35e654"
      },
      "execution_count": null,
      "outputs": [
        {
          "output_type": "execute_result",
          "data": {
            "text/plain": [
              "dict_values(['Monish', 41, 'Male'])"
            ]
          },
          "metadata": {},
          "execution_count": 3
        }
      ]
    },
    {
      "cell_type": "code",
      "source": [
        "dict1.items()"
      ],
      "metadata": {
        "colab": {
          "base_uri": "https://localhost:8080/"
        },
        "id": "ictG2qS0GivJ",
        "outputId": "feb0109e-44f9-4589-c31d-cc19ca72f780"
      },
      "execution_count": null,
      "outputs": [
        {
          "output_type": "execute_result",
          "data": {
            "text/plain": [
              "dict_items([('Name', 'Monish'), ('Age', 41), ('Gender', 'Male')])"
            ]
          },
          "metadata": {},
          "execution_count": 5
        }
      ]
    },
    {
      "cell_type": "code",
      "source": [
        "\n",
        "dict1.items()\n",
        "del dict1['Age']\n",
        "dict1"
      ],
      "metadata": {
        "colab": {
          "base_uri": "https://localhost:8080/"
        },
        "id": "jeyoim-HG13I",
        "outputId": "c2149dd8-5052-408b-b5a5-311705c8db79"
      },
      "execution_count": null,
      "outputs": [
        {
          "output_type": "execute_result",
          "data": {
            "text/plain": [
              "{'Name': 'Monish'}"
            ]
          },
          "metadata": {},
          "execution_count": 13
        }
      ]
    },
    {
      "cell_type": "code",
      "source": [
        "dict1.clear()\n",
        "dict1"
      ],
      "metadata": {
        "colab": {
          "base_uri": "https://localhost:8080/"
        },
        "id": "pWnpP4flHybr",
        "outputId": "f476310a-f2a4-4b9b-82ad-179299ff087e"
      },
      "execution_count": null,
      "outputs": [
        {
          "output_type": "execute_result",
          "data": {
            "text/plain": [
              "{}"
            ]
          },
          "metadata": {},
          "execution_count": 14
        }
      ]
    },
    {
      "cell_type": "code",
      "source": [
        "num=int(input('Enter the number of Employees'))\n",
        "count=1\n",
        "employee=dict()\n",
        "while count<= num:\n",
        "  name=input('Enter the name')\n",
        "  salary=int(input('Enter the salary'))\n",
        "  employee[name]=salary\n",
        "  count+=1\n",
        "for name,salary in employee.items():\n",
        "  print(name,salary)\n"
      ],
      "metadata": {
        "colab": {
          "base_uri": "https://localhost:8080/"
        },
        "id": "W5a8SAzbQtgb",
        "outputId": "6e34683e-2a84-47e4-e7d8-5a8bba7e21e1"
      },
      "execution_count": null,
      "outputs": [
        {
          "output_type": "stream",
          "name": "stdout",
          "text": [
            "Enter the number of Employees2\n",
            "Enter the namejosh\n",
            "Enter the salary5000\n",
            "Enter the namedan\n",
            "Enter the salary4000\n",
            "josh 5000\n",
            "dan 4000\n"
          ]
        }
      ]
    },
    {
      "cell_type": "code",
      "source": [
        "import  numpy as np\n",
        "x=np.array([1,2,3])\n",
        "x\n",
        "type(x)\n",
        "y=np.ones((2,2), dtype=np.int16)\n",
        "y"
      ],
      "metadata": {
        "colab": {
          "base_uri": "https://localhost:8080/"
        },
        "id": "GDvMK5SSEZdP",
        "outputId": "50189e75-e508-4edb-ebec-c77d30745214"
      },
      "execution_count": null,
      "outputs": [
        {
          "output_type": "execute_result",
          "data": {
            "text/plain": [
              "array([[1, 1],\n",
              "       [1, 1]], dtype=int16)"
            ]
          },
          "metadata": {},
          "execution_count": 6
        }
      ]
    },
    {
      "cell_type": "code",
      "source": [
        "x=np.arange(10,80,5)\n",
        "x"
      ],
      "metadata": {
        "colab": {
          "base_uri": "https://localhost:8080/"
        },
        "id": "Bu37n_N0mDrz",
        "outputId": "97e6fd22-e316-4b32-b0ea-fc0ac2048a26"
      },
      "execution_count": null,
      "outputs": [
        {
          "output_type": "execute_result",
          "data": {
            "text/plain": [
              "array([10, 15, 20, 25, 30, 35, 40, 45, 50, 55, 60, 65, 70, 75])"
            ]
          },
          "metadata": {},
          "execution_count": 5
        }
      ]
    },
    {
      "cell_type": "code",
      "source": [
        "y=np.linspace(0,1/4,3)\n",
        "y"
      ],
      "metadata": {
        "colab": {
          "base_uri": "https://localhost:8080/"
        },
        "id": "T1uSqddVnB3R",
        "outputId": "ee36db84-6717-45c9-dbe3-dd598e7a0a84"
      },
      "execution_count": null,
      "outputs": [
        {
          "output_type": "execute_result",
          "data": {
            "text/plain": [
              "array([0.   , 0.125, 0.25 ])"
            ]
          },
          "metadata": {},
          "execution_count": 7
        }
      ]
    },
    {
      "cell_type": "code",
      "source": [
        "i=np.random.rand(3,4)\n",
        "i"
      ],
      "metadata": {
        "colab": {
          "base_uri": "https://localhost:8080/"
        },
        "id": "9rI5iHW6nnks",
        "outputId": "847aa882-a515-41fe-e328-59226bfb2feb"
      },
      "execution_count": null,
      "outputs": [
        {
          "output_type": "execute_result",
          "data": {
            "text/plain": [
              "array([[0.18278344, 0.60250227, 0.80104623, 0.81954957],\n",
              "       [0.71552962, 0.48223105, 0.11739357, 0.99500669],\n",
              "       [0.21618479, 0.52153155, 0.41855865, 0.54314768]])"
            ]
          },
          "metadata": {},
          "execution_count": 7
        }
      ]
    },
    {
      "cell_type": "code",
      "source": [
        "j=np.empty((3,4), dtype=np.int16)\n",
        "\n",
        "\n",
        "j.ndim\n",
        "j.size\n",
        "j.shape"
      ],
      "metadata": {
        "colab": {
          "base_uri": "https://localhost:8080/"
        },
        "id": "fovHERi3olBE",
        "outputId": "9fc58771-bf17-4a5d-d840-3600e9f49134"
      },
      "execution_count": null,
      "outputs": [
        {
          "output_type": "execute_result",
          "data": {
            "text/plain": [
              "(3, 4)"
            ]
          },
          "metadata": {},
          "execution_count": 18
        }
      ]
    },
    {
      "cell_type": "code",
      "source": [
        "i[2:3]"
      ],
      "metadata": {
        "colab": {
          "base_uri": "https://localhost:8080/"
        },
        "id": "rCweBcgYqeNF",
        "outputId": "8c74e4fd-a9e0-447e-9dc7-f01a765ccab8"
      },
      "execution_count": null,
      "outputs": [
        {
          "output_type": "execute_result",
          "data": {
            "text/plain": [
              "array([[0.47084623, 0.57269373, 0.67461817, 0.46024784]])"
            ]
          },
          "metadata": {},
          "execution_count": 19
        }
      ]
    },
    {
      "cell_type": "code",
      "source": [
        "k=i.reshape(4,3)\n",
        "k"
      ],
      "metadata": {
        "colab": {
          "base_uri": "https://localhost:8080/"
        },
        "id": "OzP-8LEGrALq",
        "outputId": "1a45c0ce-dc67-475e-bbd2-99dda332e8ba"
      },
      "execution_count": null,
      "outputs": [
        {
          "output_type": "execute_result",
          "data": {
            "text/plain": [
              "array([[0.18278344, 0.60250227, 0.80104623],\n",
              "       [0.81954957, 0.71552962, 0.48223105],\n",
              "       [0.11739357, 0.99500669, 0.21618479],\n",
              "       [0.52153155, 0.41855865, 0.54314768]])"
            ]
          },
          "metadata": {},
          "execution_count": 8
        }
      ]
    },
    {
      "cell_type": "code",
      "source": [
        "k[:, 2]"
      ],
      "metadata": {
        "colab": {
          "base_uri": "https://localhost:8080/"
        },
        "id": "t_rBZ6QxcWHp",
        "outputId": "f36b21ea-53b4-4952-ead0-6b7206c7bab7"
      },
      "execution_count": null,
      "outputs": [
        {
          "output_type": "execute_result",
          "data": {
            "text/plain": [
              "array([0.80104623, 0.48223105, 0.21618479, 0.54314768])"
            ]
          },
          "metadata": {},
          "execution_count": 10
        }
      ]
    },
    {
      "cell_type": "code",
      "source": [
        "import numpy as np\n",
        "\n",
        "# Generate the random array\n",
        "i = np.random.rand(3, 4)\n",
        "\n",
        "# Pivot (transpose) the array\n",
        "pivoted = i.T\n",
        "\n",
        "print(\"Original Array:\")\n",
        "print(i)\n",
        "\n",
        "print(\"\\nPivoted (Transposed) Array:\")\n",
        "print(pivoted)\n"
      ],
      "metadata": {
        "colab": {
          "base_uri": "https://localhost:8080/"
        },
        "id": "1F_48RFfzg2x",
        "outputId": "9e215270-863f-4ef8-902c-d372c792805e"
      },
      "execution_count": null,
      "outputs": [
        {
          "output_type": "stream",
          "name": "stdout",
          "text": [
            "Original Array:\n",
            "[[0.91449682 0.07533168 0.61218619 0.45555297]\n",
            " [0.96900941 0.92948748 0.61029198 0.69498419]\n",
            " [0.08837159 0.70074978 0.62068661 0.71833321]]\n",
            "\n",
            "Pivoted (Transposed) Array:\n",
            "[[0.91449682 0.96900941 0.08837159]\n",
            " [0.07533168 0.92948748 0.70074978]\n",
            " [0.61218619 0.61029198 0.62068661]\n",
            " [0.45555297 0.69498419 0.71833321]]\n"
          ]
        }
      ]
    },
    {
      "cell_type": "code",
      "source": [
        "x=np.array([1,2,3])\n",
        "y=[8,9,0]"
      ],
      "metadata": {
        "id": "mP6ikdcwKKkZ"
      },
      "execution_count": null,
      "outputs": []
    },
    {
      "cell_type": "code",
      "source": [
        "a=x\n",
        "b=y\n",
        "a[2]=1"
      ],
      "metadata": {
        "id": "MM-M8PXxK7FY"
      },
      "execution_count": null,
      "outputs": []
    },
    {
      "cell_type": "code",
      "source": [
        "b[2]=6\n",
        "y"
      ],
      "metadata": {
        "colab": {
          "base_uri": "https://localhost:8080/"
        },
        "id": "3Lr5gk2JLHZ8",
        "outputId": "dafa48e2-350b-4ad1-8c1f-b75b4ece599d"
      },
      "execution_count": null,
      "outputs": [
        {
          "output_type": "execute_result",
          "data": {
            "text/plain": [
              "[8, 9, 6]"
            ]
          },
          "metadata": {},
          "execution_count": 5
        }
      ]
    },
    {
      "cell_type": "code",
      "source": [
        "a[1]=0\n",
        "x"
      ],
      "metadata": {
        "colab": {
          "base_uri": "https://localhost:8080/"
        },
        "id": "nT02Gcl-dzhb",
        "outputId": "8dd6d225-f889-4a51-b574-d5cacf59b23d"
      },
      "execution_count": null,
      "outputs": [
        {
          "output_type": "execute_result",
          "data": {
            "text/plain": [
              "array([1, 0, 1])"
            ]
          },
          "metadata": {},
          "execution_count": 6
        }
      ]
    },
    {
      "cell_type": "code",
      "source": [
        "import pandas as py\n",
        "s=py.Series(x)\n",
        "s"
      ],
      "metadata": {
        "colab": {
          "base_uri": "https://localhost:8080/",
          "height": 178
        },
        "id": "jvj3fcpMeN29",
        "outputId": "9dbf075c-524b-4036-941e-a6126df51aa9"
      },
      "execution_count": null,
      "outputs": [
        {
          "output_type": "execute_result",
          "data": {
            "text/plain": [
              "0    1\n",
              "1    0\n",
              "2    1\n",
              "dtype: int64"
            ],
            "text/html": [
              "<div>\n",
              "<style scoped>\n",
              "    .dataframe tbody tr th:only-of-type {\n",
              "        vertical-align: middle;\n",
              "    }\n",
              "\n",
              "    .dataframe tbody tr th {\n",
              "        vertical-align: top;\n",
              "    }\n",
              "\n",
              "    .dataframe thead th {\n",
              "        text-align: right;\n",
              "    }\n",
              "</style>\n",
              "<table border=\"1\" class=\"dataframe\">\n",
              "  <thead>\n",
              "    <tr style=\"text-align: right;\">\n",
              "      <th></th>\n",
              "      <th>0</th>\n",
              "    </tr>\n",
              "  </thead>\n",
              "  <tbody>\n",
              "    <tr>\n",
              "      <th>0</th>\n",
              "      <td>1</td>\n",
              "    </tr>\n",
              "    <tr>\n",
              "      <th>1</th>\n",
              "      <td>0</td>\n",
              "    </tr>\n",
              "    <tr>\n",
              "      <th>2</th>\n",
              "      <td>1</td>\n",
              "    </tr>\n",
              "  </tbody>\n",
              "</table>\n",
              "</div><br><label><b>dtype:</b> int64</label>"
            ]
          },
          "metadata": {},
          "execution_count": 7
        }
      ]
    },
    {
      "cell_type": "code",
      "source": [
        "l=[[1,2],[3,4],[5,6],[7,8]]\n",
        "df1=py.DataFrame(l)\n",
        "df1"
      ],
      "metadata": {
        "colab": {
          "base_uri": "https://localhost:8080/",
          "height": 175
        },
        "id": "1Usa1w4oelRT",
        "outputId": "c75e1535-d8e4-40e1-aac7-3f4270f41ef5"
      },
      "execution_count": null,
      "outputs": [
        {
          "output_type": "execute_result",
          "data": {
            "text/plain": [
              "   0  1\n",
              "0  1  2\n",
              "1  3  4\n",
              "2  5  6\n",
              "3  7  8"
            ],
            "text/html": [
              "\n",
              "  <div id=\"df-19f6d580-a8f3-431a-b08f-99dd674b497e\" class=\"colab-df-container\">\n",
              "    <div>\n",
              "<style scoped>\n",
              "    .dataframe tbody tr th:only-of-type {\n",
              "        vertical-align: middle;\n",
              "    }\n",
              "\n",
              "    .dataframe tbody tr th {\n",
              "        vertical-align: top;\n",
              "    }\n",
              "\n",
              "    .dataframe thead th {\n",
              "        text-align: right;\n",
              "    }\n",
              "</style>\n",
              "<table border=\"1\" class=\"dataframe\">\n",
              "  <thead>\n",
              "    <tr style=\"text-align: right;\">\n",
              "      <th></th>\n",
              "      <th>0</th>\n",
              "      <th>1</th>\n",
              "    </tr>\n",
              "  </thead>\n",
              "  <tbody>\n",
              "    <tr>\n",
              "      <th>0</th>\n",
              "      <td>1</td>\n",
              "      <td>2</td>\n",
              "    </tr>\n",
              "    <tr>\n",
              "      <th>1</th>\n",
              "      <td>3</td>\n",
              "      <td>4</td>\n",
              "    </tr>\n",
              "    <tr>\n",
              "      <th>2</th>\n",
              "      <td>5</td>\n",
              "      <td>6</td>\n",
              "    </tr>\n",
              "    <tr>\n",
              "      <th>3</th>\n",
              "      <td>7</td>\n",
              "      <td>8</td>\n",
              "    </tr>\n",
              "  </tbody>\n",
              "</table>\n",
              "</div>\n",
              "    <div class=\"colab-df-buttons\">\n",
              "\n",
              "  <div class=\"colab-df-container\">\n",
              "    <button class=\"colab-df-convert\" onclick=\"convertToInteractive('df-19f6d580-a8f3-431a-b08f-99dd674b497e')\"\n",
              "            title=\"Convert this dataframe to an interactive table.\"\n",
              "            style=\"display:none;\">\n",
              "\n",
              "  <svg xmlns=\"http://www.w3.org/2000/svg\" height=\"24px\" viewBox=\"0 -960 960 960\">\n",
              "    <path d=\"M120-120v-720h720v720H120Zm60-500h600v-160H180v160Zm220 220h160v-160H400v160Zm0 220h160v-160H400v160ZM180-400h160v-160H180v160Zm440 0h160v-160H620v160ZM180-180h160v-160H180v160Zm440 0h160v-160H620v160Z\"/>\n",
              "  </svg>\n",
              "    </button>\n",
              "\n",
              "  <style>\n",
              "    .colab-df-container {\n",
              "      display:flex;\n",
              "      gap: 12px;\n",
              "    }\n",
              "\n",
              "    .colab-df-convert {\n",
              "      background-color: #E8F0FE;\n",
              "      border: none;\n",
              "      border-radius: 50%;\n",
              "      cursor: pointer;\n",
              "      display: none;\n",
              "      fill: #1967D2;\n",
              "      height: 32px;\n",
              "      padding: 0 0 0 0;\n",
              "      width: 32px;\n",
              "    }\n",
              "\n",
              "    .colab-df-convert:hover {\n",
              "      background-color: #E2EBFA;\n",
              "      box-shadow: 0px 1px 2px rgba(60, 64, 67, 0.3), 0px 1px 3px 1px rgba(60, 64, 67, 0.15);\n",
              "      fill: #174EA6;\n",
              "    }\n",
              "\n",
              "    .colab-df-buttons div {\n",
              "      margin-bottom: 4px;\n",
              "    }\n",
              "\n",
              "    [theme=dark] .colab-df-convert {\n",
              "      background-color: #3B4455;\n",
              "      fill: #D2E3FC;\n",
              "    }\n",
              "\n",
              "    [theme=dark] .colab-df-convert:hover {\n",
              "      background-color: #434B5C;\n",
              "      box-shadow: 0px 1px 3px 1px rgba(0, 0, 0, 0.15);\n",
              "      filter: drop-shadow(0px 1px 2px rgba(0, 0, 0, 0.3));\n",
              "      fill: #FFFFFF;\n",
              "    }\n",
              "  </style>\n",
              "\n",
              "    <script>\n",
              "      const buttonEl =\n",
              "        document.querySelector('#df-19f6d580-a8f3-431a-b08f-99dd674b497e button.colab-df-convert');\n",
              "      buttonEl.style.display =\n",
              "        google.colab.kernel.accessAllowed ? 'block' : 'none';\n",
              "\n",
              "      async function convertToInteractive(key) {\n",
              "        const element = document.querySelector('#df-19f6d580-a8f3-431a-b08f-99dd674b497e');\n",
              "        const dataTable =\n",
              "          await google.colab.kernel.invokeFunction('convertToInteractive',\n",
              "                                                    [key], {});\n",
              "        if (!dataTable) return;\n",
              "\n",
              "        const docLinkHtml = 'Like what you see? Visit the ' +\n",
              "          '<a target=\"_blank\" href=https://colab.research.google.com/notebooks/data_table.ipynb>data table notebook</a>'\n",
              "          + ' to learn more about interactive tables.';\n",
              "        element.innerHTML = '';\n",
              "        dataTable['output_type'] = 'display_data';\n",
              "        await google.colab.output.renderOutput(dataTable, element);\n",
              "        const docLink = document.createElement('div');\n",
              "        docLink.innerHTML = docLinkHtml;\n",
              "        element.appendChild(docLink);\n",
              "      }\n",
              "    </script>\n",
              "  </div>\n",
              "\n",
              "\n",
              "<div id=\"df-6c3d32ff-eb32-41df-a52d-2ecddef0b2a4\">\n",
              "  <button class=\"colab-df-quickchart\" onclick=\"quickchart('df-6c3d32ff-eb32-41df-a52d-2ecddef0b2a4')\"\n",
              "            title=\"Suggest charts\"\n",
              "            style=\"display:none;\">\n",
              "\n",
              "<svg xmlns=\"http://www.w3.org/2000/svg\" height=\"24px\"viewBox=\"0 0 24 24\"\n",
              "     width=\"24px\">\n",
              "    <g>\n",
              "        <path d=\"M19 3H5c-1.1 0-2 .9-2 2v14c0 1.1.9 2 2 2h14c1.1 0 2-.9 2-2V5c0-1.1-.9-2-2-2zM9 17H7v-7h2v7zm4 0h-2V7h2v10zm4 0h-2v-4h2v4z\"/>\n",
              "    </g>\n",
              "</svg>\n",
              "  </button>\n",
              "\n",
              "<style>\n",
              "  .colab-df-quickchart {\n",
              "      --bg-color: #E8F0FE;\n",
              "      --fill-color: #1967D2;\n",
              "      --hover-bg-color: #E2EBFA;\n",
              "      --hover-fill-color: #174EA6;\n",
              "      --disabled-fill-color: #AAA;\n",
              "      --disabled-bg-color: #DDD;\n",
              "  }\n",
              "\n",
              "  [theme=dark] .colab-df-quickchart {\n",
              "      --bg-color: #3B4455;\n",
              "      --fill-color: #D2E3FC;\n",
              "      --hover-bg-color: #434B5C;\n",
              "      --hover-fill-color: #FFFFFF;\n",
              "      --disabled-bg-color: #3B4455;\n",
              "      --disabled-fill-color: #666;\n",
              "  }\n",
              "\n",
              "  .colab-df-quickchart {\n",
              "    background-color: var(--bg-color);\n",
              "    border: none;\n",
              "    border-radius: 50%;\n",
              "    cursor: pointer;\n",
              "    display: none;\n",
              "    fill: var(--fill-color);\n",
              "    height: 32px;\n",
              "    padding: 0;\n",
              "    width: 32px;\n",
              "  }\n",
              "\n",
              "  .colab-df-quickchart:hover {\n",
              "    background-color: var(--hover-bg-color);\n",
              "    box-shadow: 0 1px 2px rgba(60, 64, 67, 0.3), 0 1px 3px 1px rgba(60, 64, 67, 0.15);\n",
              "    fill: var(--button-hover-fill-color);\n",
              "  }\n",
              "\n",
              "  .colab-df-quickchart-complete:disabled,\n",
              "  .colab-df-quickchart-complete:disabled:hover {\n",
              "    background-color: var(--disabled-bg-color);\n",
              "    fill: var(--disabled-fill-color);\n",
              "    box-shadow: none;\n",
              "  }\n",
              "\n",
              "  .colab-df-spinner {\n",
              "    border: 2px solid var(--fill-color);\n",
              "    border-color: transparent;\n",
              "    border-bottom-color: var(--fill-color);\n",
              "    animation:\n",
              "      spin 1s steps(1) infinite;\n",
              "  }\n",
              "\n",
              "  @keyframes spin {\n",
              "    0% {\n",
              "      border-color: transparent;\n",
              "      border-bottom-color: var(--fill-color);\n",
              "      border-left-color: var(--fill-color);\n",
              "    }\n",
              "    20% {\n",
              "      border-color: transparent;\n",
              "      border-left-color: var(--fill-color);\n",
              "      border-top-color: var(--fill-color);\n",
              "    }\n",
              "    30% {\n",
              "      border-color: transparent;\n",
              "      border-left-color: var(--fill-color);\n",
              "      border-top-color: var(--fill-color);\n",
              "      border-right-color: var(--fill-color);\n",
              "    }\n",
              "    40% {\n",
              "      border-color: transparent;\n",
              "      border-right-color: var(--fill-color);\n",
              "      border-top-color: var(--fill-color);\n",
              "    }\n",
              "    60% {\n",
              "      border-color: transparent;\n",
              "      border-right-color: var(--fill-color);\n",
              "    }\n",
              "    80% {\n",
              "      border-color: transparent;\n",
              "      border-right-color: var(--fill-color);\n",
              "      border-bottom-color: var(--fill-color);\n",
              "    }\n",
              "    90% {\n",
              "      border-color: transparent;\n",
              "      border-bottom-color: var(--fill-color);\n",
              "    }\n",
              "  }\n",
              "</style>\n",
              "\n",
              "  <script>\n",
              "    async function quickchart(key) {\n",
              "      const quickchartButtonEl =\n",
              "        document.querySelector('#' + key + ' button');\n",
              "      quickchartButtonEl.disabled = true;  // To prevent multiple clicks.\n",
              "      quickchartButtonEl.classList.add('colab-df-spinner');\n",
              "      try {\n",
              "        const charts = await google.colab.kernel.invokeFunction(\n",
              "            'suggestCharts', [key], {});\n",
              "      } catch (error) {\n",
              "        console.error('Error during call to suggestCharts:', error);\n",
              "      }\n",
              "      quickchartButtonEl.classList.remove('colab-df-spinner');\n",
              "      quickchartButtonEl.classList.add('colab-df-quickchart-complete');\n",
              "    }\n",
              "    (() => {\n",
              "      let quickchartButtonEl =\n",
              "        document.querySelector('#df-6c3d32ff-eb32-41df-a52d-2ecddef0b2a4 button');\n",
              "      quickchartButtonEl.style.display =\n",
              "        google.colab.kernel.accessAllowed ? 'block' : 'none';\n",
              "    })();\n",
              "  </script>\n",
              "</div>\n",
              "\n",
              "  <div id=\"id_3299d959-2a8d-4f61-a315-2f73a317639c\">\n",
              "    <style>\n",
              "      .colab-df-generate {\n",
              "        background-color: #E8F0FE;\n",
              "        border: none;\n",
              "        border-radius: 50%;\n",
              "        cursor: pointer;\n",
              "        display: none;\n",
              "        fill: #1967D2;\n",
              "        height: 32px;\n",
              "        padding: 0 0 0 0;\n",
              "        width: 32px;\n",
              "      }\n",
              "\n",
              "      .colab-df-generate:hover {\n",
              "        background-color: #E2EBFA;\n",
              "        box-shadow: 0px 1px 2px rgba(60, 64, 67, 0.3), 0px 1px 3px 1px rgba(60, 64, 67, 0.15);\n",
              "        fill: #174EA6;\n",
              "      }\n",
              "\n",
              "      [theme=dark] .colab-df-generate {\n",
              "        background-color: #3B4455;\n",
              "        fill: #D2E3FC;\n",
              "      }\n",
              "\n",
              "      [theme=dark] .colab-df-generate:hover {\n",
              "        background-color: #434B5C;\n",
              "        box-shadow: 0px 1px 3px 1px rgba(0, 0, 0, 0.15);\n",
              "        filter: drop-shadow(0px 1px 2px rgba(0, 0, 0, 0.3));\n",
              "        fill: #FFFFFF;\n",
              "      }\n",
              "    </style>\n",
              "    <button class=\"colab-df-generate\" onclick=\"generateWithVariable('df1')\"\n",
              "            title=\"Generate code using this dataframe.\"\n",
              "            style=\"display:none;\">\n",
              "\n",
              "  <svg xmlns=\"http://www.w3.org/2000/svg\" height=\"24px\"viewBox=\"0 0 24 24\"\n",
              "       width=\"24px\">\n",
              "    <path d=\"M7,19H8.4L18.45,9,17,7.55,7,17.6ZM5,21V16.75L18.45,3.32a2,2,0,0,1,2.83,0l1.4,1.43a1.91,1.91,0,0,1,.58,1.4,1.91,1.91,0,0,1-.58,1.4L9.25,21ZM18.45,9,17,7.55Zm-12,3A5.31,5.31,0,0,0,4.9,8.1,5.31,5.31,0,0,0,1,6.5,5.31,5.31,0,0,0,4.9,4.9,5.31,5.31,0,0,0,6.5,1,5.31,5.31,0,0,0,8.1,4.9,5.31,5.31,0,0,0,12,6.5,5.46,5.46,0,0,0,6.5,12Z\"/>\n",
              "  </svg>\n",
              "    </button>\n",
              "    <script>\n",
              "      (() => {\n",
              "      const buttonEl =\n",
              "        document.querySelector('#id_3299d959-2a8d-4f61-a315-2f73a317639c button.colab-df-generate');\n",
              "      buttonEl.style.display =\n",
              "        google.colab.kernel.accessAllowed ? 'block' : 'none';\n",
              "\n",
              "      buttonEl.onclick = () => {\n",
              "        google.colab.notebook.generateWithVariable('df1');\n",
              "      }\n",
              "      })();\n",
              "    </script>\n",
              "  </div>\n",
              "\n",
              "    </div>\n",
              "  </div>\n"
            ],
            "application/vnd.google.colaboratory.intrinsic+json": {
              "type": "dataframe",
              "variable_name": "df1",
              "summary": "{\n  \"name\": \"df1\",\n  \"rows\": 4,\n  \"fields\": [\n    {\n      \"column\": 0,\n      \"properties\": {\n        \"dtype\": \"number\",\n        \"std\": 2,\n        \"min\": 1,\n        \"max\": 7,\n        \"num_unique_values\": 4,\n        \"samples\": [\n          3,\n          7,\n          1\n        ],\n        \"semantic_type\": \"\",\n        \"description\": \"\"\n      }\n    },\n    {\n      \"column\": 1,\n      \"properties\": {\n        \"dtype\": \"number\",\n        \"std\": 2,\n        \"min\": 2,\n        \"max\": 8,\n        \"num_unique_values\": 4,\n        \"samples\": [\n          4,\n          8,\n          2\n        ],\n        \"semantic_type\": \"\",\n        \"description\": \"\"\n      }\n    }\n  ]\n}"
            }
          },
          "metadata": {},
          "execution_count": 10
        }
      ]
    },
    {
      "cell_type": "code",
      "source": [
        "import numpy as np\n",
        "import pandas as pd\n",
        "ds={ 'EmpNo': pd.Series([1,2,3,4])}\n",
        "df=pd.DataFrame(ds)\n",
        "df"
      ],
      "metadata": {
        "colab": {
          "base_uri": "https://localhost:8080/",
          "height": 175
        },
        "id": "a9Euq2SUzZVS",
        "outputId": "7b762b15-e056-4ec2-be6f-9802a4bb1b61"
      },
      "execution_count": null,
      "outputs": [
        {
          "output_type": "execute_result",
          "data": {
            "text/plain": [
              "   EmpNo\n",
              "0      1\n",
              "1      2\n",
              "2      3\n",
              "3      4"
            ],
            "text/html": [
              "\n",
              "  <div id=\"df-0ef5b891-964b-4b64-9ed8-5e65ef912b98\" class=\"colab-df-container\">\n",
              "    <div>\n",
              "<style scoped>\n",
              "    .dataframe tbody tr th:only-of-type {\n",
              "        vertical-align: middle;\n",
              "    }\n",
              "\n",
              "    .dataframe tbody tr th {\n",
              "        vertical-align: top;\n",
              "    }\n",
              "\n",
              "    .dataframe thead th {\n",
              "        text-align: right;\n",
              "    }\n",
              "</style>\n",
              "<table border=\"1\" class=\"dataframe\">\n",
              "  <thead>\n",
              "    <tr style=\"text-align: right;\">\n",
              "      <th></th>\n",
              "      <th>EmpNo</th>\n",
              "    </tr>\n",
              "  </thead>\n",
              "  <tbody>\n",
              "    <tr>\n",
              "      <th>0</th>\n",
              "      <td>1</td>\n",
              "    </tr>\n",
              "    <tr>\n",
              "      <th>1</th>\n",
              "      <td>2</td>\n",
              "    </tr>\n",
              "    <tr>\n",
              "      <th>2</th>\n",
              "      <td>3</td>\n",
              "    </tr>\n",
              "    <tr>\n",
              "      <th>3</th>\n",
              "      <td>4</td>\n",
              "    </tr>\n",
              "  </tbody>\n",
              "</table>\n",
              "</div>\n",
              "    <div class=\"colab-df-buttons\">\n",
              "\n",
              "  <div class=\"colab-df-container\">\n",
              "    <button class=\"colab-df-convert\" onclick=\"convertToInteractive('df-0ef5b891-964b-4b64-9ed8-5e65ef912b98')\"\n",
              "            title=\"Convert this dataframe to an interactive table.\"\n",
              "            style=\"display:none;\">\n",
              "\n",
              "  <svg xmlns=\"http://www.w3.org/2000/svg\" height=\"24px\" viewBox=\"0 -960 960 960\">\n",
              "    <path d=\"M120-120v-720h720v720H120Zm60-500h600v-160H180v160Zm220 220h160v-160H400v160Zm0 220h160v-160H400v160ZM180-400h160v-160H180v160Zm440 0h160v-160H620v160ZM180-180h160v-160H180v160Zm440 0h160v-160H620v160Z\"/>\n",
              "  </svg>\n",
              "    </button>\n",
              "\n",
              "  <style>\n",
              "    .colab-df-container {\n",
              "      display:flex;\n",
              "      gap: 12px;\n",
              "    }\n",
              "\n",
              "    .colab-df-convert {\n",
              "      background-color: #E8F0FE;\n",
              "      border: none;\n",
              "      border-radius: 50%;\n",
              "      cursor: pointer;\n",
              "      display: none;\n",
              "      fill: #1967D2;\n",
              "      height: 32px;\n",
              "      padding: 0 0 0 0;\n",
              "      width: 32px;\n",
              "    }\n",
              "\n",
              "    .colab-df-convert:hover {\n",
              "      background-color: #E2EBFA;\n",
              "      box-shadow: 0px 1px 2px rgba(60, 64, 67, 0.3), 0px 1px 3px 1px rgba(60, 64, 67, 0.15);\n",
              "      fill: #174EA6;\n",
              "    }\n",
              "\n",
              "    .colab-df-buttons div {\n",
              "      margin-bottom: 4px;\n",
              "    }\n",
              "\n",
              "    [theme=dark] .colab-df-convert {\n",
              "      background-color: #3B4455;\n",
              "      fill: #D2E3FC;\n",
              "    }\n",
              "\n",
              "    [theme=dark] .colab-df-convert:hover {\n",
              "      background-color: #434B5C;\n",
              "      box-shadow: 0px 1px 3px 1px rgba(0, 0, 0, 0.15);\n",
              "      filter: drop-shadow(0px 1px 2px rgba(0, 0, 0, 0.3));\n",
              "      fill: #FFFFFF;\n",
              "    }\n",
              "  </style>\n",
              "\n",
              "    <script>\n",
              "      const buttonEl =\n",
              "        document.querySelector('#df-0ef5b891-964b-4b64-9ed8-5e65ef912b98 button.colab-df-convert');\n",
              "      buttonEl.style.display =\n",
              "        google.colab.kernel.accessAllowed ? 'block' : 'none';\n",
              "\n",
              "      async function convertToInteractive(key) {\n",
              "        const element = document.querySelector('#df-0ef5b891-964b-4b64-9ed8-5e65ef912b98');\n",
              "        const dataTable =\n",
              "          await google.colab.kernel.invokeFunction('convertToInteractive',\n",
              "                                                    [key], {});\n",
              "        if (!dataTable) return;\n",
              "\n",
              "        const docLinkHtml = 'Like what you see? Visit the ' +\n",
              "          '<a target=\"_blank\" href=https://colab.research.google.com/notebooks/data_table.ipynb>data table notebook</a>'\n",
              "          + ' to learn more about interactive tables.';\n",
              "        element.innerHTML = '';\n",
              "        dataTable['output_type'] = 'display_data';\n",
              "        await google.colab.output.renderOutput(dataTable, element);\n",
              "        const docLink = document.createElement('div');\n",
              "        docLink.innerHTML = docLinkHtml;\n",
              "        element.appendChild(docLink);\n",
              "      }\n",
              "    </script>\n",
              "  </div>\n",
              "\n",
              "\n",
              "<div id=\"df-2e667ba7-3fca-4b75-b56e-8d3ef169b2f8\">\n",
              "  <button class=\"colab-df-quickchart\" onclick=\"quickchart('df-2e667ba7-3fca-4b75-b56e-8d3ef169b2f8')\"\n",
              "            title=\"Suggest charts\"\n",
              "            style=\"display:none;\">\n",
              "\n",
              "<svg xmlns=\"http://www.w3.org/2000/svg\" height=\"24px\"viewBox=\"0 0 24 24\"\n",
              "     width=\"24px\">\n",
              "    <g>\n",
              "        <path d=\"M19 3H5c-1.1 0-2 .9-2 2v14c0 1.1.9 2 2 2h14c1.1 0 2-.9 2-2V5c0-1.1-.9-2-2-2zM9 17H7v-7h2v7zm4 0h-2V7h2v10zm4 0h-2v-4h2v4z\"/>\n",
              "    </g>\n",
              "</svg>\n",
              "  </button>\n",
              "\n",
              "<style>\n",
              "  .colab-df-quickchart {\n",
              "      --bg-color: #E8F0FE;\n",
              "      --fill-color: #1967D2;\n",
              "      --hover-bg-color: #E2EBFA;\n",
              "      --hover-fill-color: #174EA6;\n",
              "      --disabled-fill-color: #AAA;\n",
              "      --disabled-bg-color: #DDD;\n",
              "  }\n",
              "\n",
              "  [theme=dark] .colab-df-quickchart {\n",
              "      --bg-color: #3B4455;\n",
              "      --fill-color: #D2E3FC;\n",
              "      --hover-bg-color: #434B5C;\n",
              "      --hover-fill-color: #FFFFFF;\n",
              "      --disabled-bg-color: #3B4455;\n",
              "      --disabled-fill-color: #666;\n",
              "  }\n",
              "\n",
              "  .colab-df-quickchart {\n",
              "    background-color: var(--bg-color);\n",
              "    border: none;\n",
              "    border-radius: 50%;\n",
              "    cursor: pointer;\n",
              "    display: none;\n",
              "    fill: var(--fill-color);\n",
              "    height: 32px;\n",
              "    padding: 0;\n",
              "    width: 32px;\n",
              "  }\n",
              "\n",
              "  .colab-df-quickchart:hover {\n",
              "    background-color: var(--hover-bg-color);\n",
              "    box-shadow: 0 1px 2px rgba(60, 64, 67, 0.3), 0 1px 3px 1px rgba(60, 64, 67, 0.15);\n",
              "    fill: var(--button-hover-fill-color);\n",
              "  }\n",
              "\n",
              "  .colab-df-quickchart-complete:disabled,\n",
              "  .colab-df-quickchart-complete:disabled:hover {\n",
              "    background-color: var(--disabled-bg-color);\n",
              "    fill: var(--disabled-fill-color);\n",
              "    box-shadow: none;\n",
              "  }\n",
              "\n",
              "  .colab-df-spinner {\n",
              "    border: 2px solid var(--fill-color);\n",
              "    border-color: transparent;\n",
              "    border-bottom-color: var(--fill-color);\n",
              "    animation:\n",
              "      spin 1s steps(1) infinite;\n",
              "  }\n",
              "\n",
              "  @keyframes spin {\n",
              "    0% {\n",
              "      border-color: transparent;\n",
              "      border-bottom-color: var(--fill-color);\n",
              "      border-left-color: var(--fill-color);\n",
              "    }\n",
              "    20% {\n",
              "      border-color: transparent;\n",
              "      border-left-color: var(--fill-color);\n",
              "      border-top-color: var(--fill-color);\n",
              "    }\n",
              "    30% {\n",
              "      border-color: transparent;\n",
              "      border-left-color: var(--fill-color);\n",
              "      border-top-color: var(--fill-color);\n",
              "      border-right-color: var(--fill-color);\n",
              "    }\n",
              "    40% {\n",
              "      border-color: transparent;\n",
              "      border-right-color: var(--fill-color);\n",
              "      border-top-color: var(--fill-color);\n",
              "    }\n",
              "    60% {\n",
              "      border-color: transparent;\n",
              "      border-right-color: var(--fill-color);\n",
              "    }\n",
              "    80% {\n",
              "      border-color: transparent;\n",
              "      border-right-color: var(--fill-color);\n",
              "      border-bottom-color: var(--fill-color);\n",
              "    }\n",
              "    90% {\n",
              "      border-color: transparent;\n",
              "      border-bottom-color: var(--fill-color);\n",
              "    }\n",
              "  }\n",
              "</style>\n",
              "\n",
              "  <script>\n",
              "    async function quickchart(key) {\n",
              "      const quickchartButtonEl =\n",
              "        document.querySelector('#' + key + ' button');\n",
              "      quickchartButtonEl.disabled = true;  // To prevent multiple clicks.\n",
              "      quickchartButtonEl.classList.add('colab-df-spinner');\n",
              "      try {\n",
              "        const charts = await google.colab.kernel.invokeFunction(\n",
              "            'suggestCharts', [key], {});\n",
              "      } catch (error) {\n",
              "        console.error('Error during call to suggestCharts:', error);\n",
              "      }\n",
              "      quickchartButtonEl.classList.remove('colab-df-spinner');\n",
              "      quickchartButtonEl.classList.add('colab-df-quickchart-complete');\n",
              "    }\n",
              "    (() => {\n",
              "      let quickchartButtonEl =\n",
              "        document.querySelector('#df-2e667ba7-3fca-4b75-b56e-8d3ef169b2f8 button');\n",
              "      quickchartButtonEl.style.display =\n",
              "        google.colab.kernel.accessAllowed ? 'block' : 'none';\n",
              "    })();\n",
              "  </script>\n",
              "</div>\n",
              "\n",
              "  <div id=\"id_e08452de-bf4b-4e6b-8368-5fb17e4acbda\">\n",
              "    <style>\n",
              "      .colab-df-generate {\n",
              "        background-color: #E8F0FE;\n",
              "        border: none;\n",
              "        border-radius: 50%;\n",
              "        cursor: pointer;\n",
              "        display: none;\n",
              "        fill: #1967D2;\n",
              "        height: 32px;\n",
              "        padding: 0 0 0 0;\n",
              "        width: 32px;\n",
              "      }\n",
              "\n",
              "      .colab-df-generate:hover {\n",
              "        background-color: #E2EBFA;\n",
              "        box-shadow: 0px 1px 2px rgba(60, 64, 67, 0.3), 0px 1px 3px 1px rgba(60, 64, 67, 0.15);\n",
              "        fill: #174EA6;\n",
              "      }\n",
              "\n",
              "      [theme=dark] .colab-df-generate {\n",
              "        background-color: #3B4455;\n",
              "        fill: #D2E3FC;\n",
              "      }\n",
              "\n",
              "      [theme=dark] .colab-df-generate:hover {\n",
              "        background-color: #434B5C;\n",
              "        box-shadow: 0px 1px 3px 1px rgba(0, 0, 0, 0.15);\n",
              "        filter: drop-shadow(0px 1px 2px rgba(0, 0, 0, 0.3));\n",
              "        fill: #FFFFFF;\n",
              "      }\n",
              "    </style>\n",
              "    <button class=\"colab-df-generate\" onclick=\"generateWithVariable('df')\"\n",
              "            title=\"Generate code using this dataframe.\"\n",
              "            style=\"display:none;\">\n",
              "\n",
              "  <svg xmlns=\"http://www.w3.org/2000/svg\" height=\"24px\"viewBox=\"0 0 24 24\"\n",
              "       width=\"24px\">\n",
              "    <path d=\"M7,19H8.4L18.45,9,17,7.55,7,17.6ZM5,21V16.75L18.45,3.32a2,2,0,0,1,2.83,0l1.4,1.43a1.91,1.91,0,0,1,.58,1.4,1.91,1.91,0,0,1-.58,1.4L9.25,21ZM18.45,9,17,7.55Zm-12,3A5.31,5.31,0,0,0,4.9,8.1,5.31,5.31,0,0,0,1,6.5,5.31,5.31,0,0,0,4.9,4.9,5.31,5.31,0,0,0,6.5,1,5.31,5.31,0,0,0,8.1,4.9,5.31,5.31,0,0,0,12,6.5,5.46,5.46,0,0,0,6.5,12Z\"/>\n",
              "  </svg>\n",
              "    </button>\n",
              "    <script>\n",
              "      (() => {\n",
              "      const buttonEl =\n",
              "        document.querySelector('#id_e08452de-bf4b-4e6b-8368-5fb17e4acbda button.colab-df-generate');\n",
              "      buttonEl.style.display =\n",
              "        google.colab.kernel.accessAllowed ? 'block' : 'none';\n",
              "\n",
              "      buttonEl.onclick = () => {\n",
              "        google.colab.notebook.generateWithVariable('df');\n",
              "      }\n",
              "      })();\n",
              "    </script>\n",
              "  </div>\n",
              "\n",
              "    </div>\n",
              "  </div>\n"
            ],
            "application/vnd.google.colaboratory.intrinsic+json": {
              "type": "dataframe",
              "variable_name": "df",
              "summary": "{\n  \"name\": \"df\",\n  \"rows\": 4,\n  \"fields\": [\n    {\n      \"column\": \"EmpNo\",\n      \"properties\": {\n        \"dtype\": \"number\",\n        \"std\": 1,\n        \"min\": 1,\n        \"max\": 4,\n        \"num_unique_values\": 4,\n        \"samples\": [\n          2,\n          4,\n          1\n        ],\n        \"semantic_type\": \"\",\n        \"description\": \"\"\n      }\n    }\n  ]\n}"
            }
          },
          "metadata": {},
          "execution_count": 2
        }
      ]
    },
    {
      "cell_type": "code",
      "source": [
        "class Employee:\n",
        "  def __init__(self, name, age):\n",
        "    self.name = name\n",
        "    self.age = age\n",
        "  def print(self):\n",
        "    print(\"name & age\", self.name, self.age)\n",
        "emp1 = Employee(\"Monish\", 41)\n",
        "emp1.print()"
      ],
      "metadata": {
        "colab": {
          "base_uri": "https://localhost:8080/"
        },
        "id": "VGRDndryC0iA",
        "outputId": "4ec4865a-2e0f-4265-d6c8-a4c0cf4cfc6a"
      },
      "execution_count": null,
      "outputs": [
        {
          "output_type": "stream",
          "name": "stdout",
          "text": [
            "name & age Monish 41\n"
          ]
        }
      ]
    },
    {
      "cell_type": "code",
      "source": [
        "class Employee:\n",
        "    def __init__(self, name, age):\n",
        "        self.name = name\n",
        "        self.age = age\n",
        "\n",
        "    def print(self):\n",
        "        print(\"Name & Age:\", self.name, self.age)\n",
        "\n",
        "class Department(Employee):\n",
        "    def __init__(self, name, age, dname, dhead):\n",
        "        super().__init__(name, age)  # Call the parent class constructor\n",
        "        self.dhead = dhead  # Initialize the department head attribute\n",
        "        self.dname=dname\n",
        "    def print(self):\n",
        "        super().print()  # Call the parent class's print method\n",
        "        print(\"Department Name:\", self.dname)\n",
        "        print(\"Department Head:\", self.dhead)\n",
        "\n",
        "# Example usage\n",
        "dept1 = Department( \"Monish\", 41,\"IT\",\"Tom\")\n",
        "dept1.print()\n"
      ],
      "metadata": {
        "colab": {
          "base_uri": "https://localhost:8080/"
        },
        "id": "GM-gFNFvGpZc",
        "outputId": "160b8dbf-dc7c-449b-adcd-c49163b38149"
      },
      "execution_count": null,
      "outputs": [
        {
          "output_type": "stream",
          "name": "stdout",
          "text": [
            "Name & Age: Monish 41\n",
            "Department Name: IT\n",
            "Department Head: Tom\n"
          ]
        }
      ]
    },
    {
      "cell_type": "code",
      "source": [
        "import pandas as pd\n",
        "import numpy as np\n",
        "import matplotlib.pyplot as plt\n",
        "import seaborn as sns\n",
        "data = [\n",
        "    ['USA', 'TX', 25],\n",
        "    ['USA', 'CA', 15],\n",
        "    ['USA', 'NY', 10],\n",
        "    ['AUS', 'NSW', 7],\n",
        "    ['AUS', 'QLD', 3]\n",
        "]\n",
        "\n",
        "# Create the DataFrame\n",
        "df = pd.DataFrame(data, columns=['Country', 'State', 'Sales'])\n",
        "#df.groupby(['Country'])['Sales'].sum()\n",
        "#df.describe()\n",
        "#df.info()\n",
        "#df.shape\n",
        "#df.columns\n",
        "df.dtypes"
      ],
      "metadata": {
        "colab": {
          "base_uri": "https://localhost:8080/",
          "height": 178
        },
        "id": "mhBoeoPHdxGs",
        "outputId": "a6290067-7459-4660-8d2e-62bc8a4a787c"
      },
      "execution_count": null,
      "outputs": [
        {
          "output_type": "execute_result",
          "data": {
            "text/plain": [
              "Country    object\n",
              "State      object\n",
              "Sales       int64\n",
              "dtype: object"
            ],
            "text/html": [
              "<div>\n",
              "<style scoped>\n",
              "    .dataframe tbody tr th:only-of-type {\n",
              "        vertical-align: middle;\n",
              "    }\n",
              "\n",
              "    .dataframe tbody tr th {\n",
              "        vertical-align: top;\n",
              "    }\n",
              "\n",
              "    .dataframe thead th {\n",
              "        text-align: right;\n",
              "    }\n",
              "</style>\n",
              "<table border=\"1\" class=\"dataframe\">\n",
              "  <thead>\n",
              "    <tr style=\"text-align: right;\">\n",
              "      <th></th>\n",
              "      <th>0</th>\n",
              "    </tr>\n",
              "  </thead>\n",
              "  <tbody>\n",
              "    <tr>\n",
              "      <th>Country</th>\n",
              "      <td>object</td>\n",
              "    </tr>\n",
              "    <tr>\n",
              "      <th>State</th>\n",
              "      <td>object</td>\n",
              "    </tr>\n",
              "    <tr>\n",
              "      <th>Sales</th>\n",
              "      <td>int64</td>\n",
              "    </tr>\n",
              "  </tbody>\n",
              "</table>\n",
              "</div><br><label><b>dtype:</b> object</label>"
            ]
          },
          "metadata": {},
          "execution_count": 11
        }
      ]
    },
    {
      "cell_type": "code",
      "source": [
        "a={'a','b'}\n",
        "print(a)\n",
        "#type(a)\n",
        "b=set([1,2,3])\n",
        "print(b)\n",
        "#type(b)\n",
        "#print(set([1,2,3]))\n",
        "\n",
        "a.update(b)\n",
        "print(a)\n",
        "b.add(4)\n",
        "b.add(0)\n",
        "print(b)\n",
        "for i in b:\n",
        "  print(i)"
      ],
      "metadata": {
        "colab": {
          "base_uri": "https://localhost:8080/"
        },
        "id": "PDgFQBi1jlvt",
        "outputId": "63a9890d-f6bf-4904-8f65-f73c84c90d9d"
      },
      "execution_count": null,
      "outputs": [
        {
          "output_type": "stream",
          "name": "stdout",
          "text": [
            "{'b', 'a'}\n",
            "{1, 2, 3}\n",
            "{1, 2, 3, 'a', 'b'}\n",
            "{0, 1, 2, 3, 4}\n",
            "0\n",
            "1\n",
            "2\n",
            "3\n",
            "4\n"
          ]
        }
      ]
    },
    {
      "cell_type": "code",
      "source": [
        "s1='string'\n",
        "s2=4\n",
        "try:\n",
        "  print(s1+s2)\n",
        "except Exception as e:\n",
        "  print(\"error\", e)"
      ],
      "metadata": {
        "colab": {
          "base_uri": "https://localhost:8080/"
        },
        "id": "kf5VnMZ6Do4w",
        "outputId": "50cfc411-2acf-4015-d28b-33557874ac05"
      },
      "execution_count": null,
      "outputs": [
        {
          "output_type": "stream",
          "name": "stdout",
          "text": [
            "error can only concatenate str (not \"int\") to str\n"
          ]
        }
      ]
    },
    {
      "cell_type": "code",
      "source": [
        "s1='var1'\n",
        "s2='var2'\n",
        "try:\n",
        "  print(\"%s %s\" %(s1,s2))\n",
        "except Exception as e:\n",
        "  print(\"error\", e)\n",
        "except TypeError as e:\n",
        "  print(\"error\", e)"
      ],
      "metadata": {
        "colab": {
          "base_uri": "https://localhost:8080/"
        },
        "id": "T_Av6Zs4Em_w",
        "outputId": "e0fc48dc-0869-46c6-b038-94469705bec6"
      },
      "execution_count": null,
      "outputs": [
        {
          "output_type": "stream",
          "name": "stdout",
          "text": [
            "var1 var2\n"
          ]
        }
      ]
    },
    {
      "cell_type": "code",
      "source": [
        "s1='Print variables in new format {0}{1}'\n",
        "s2='new variable1 format'\n",
        "s3='new variable2 format'\n",
        "print(s1.format(s2,s3))"
      ],
      "metadata": {
        "colab": {
          "base_uri": "https://localhost:8080/"
        },
        "id": "hWhQxDh_F5Kr",
        "outputId": "2d4ea558-5769-46c0-a5ca-ed769638aec5"
      },
      "execution_count": null,
      "outputs": [
        {
          "output_type": "stream",
          "name": "stdout",
          "text": [
            "Print variables in new format new variable1 formatnew variable2 format\n"
          ]
        }
      ]
    },
    {
      "cell_type": "code",
      "source": [
        "\n",
        "class bigg():\n",
        "\n",
        "  def big(self,arr):\n",
        "      max=arr[0]\n",
        "      for i in arr:\n",
        "        if i>max:\n",
        "          max=i\n",
        "      return max\n",
        "\n",
        "arr=[1,2,3]\n",
        "a=bigg()\n",
        "print(a.big(arr))"
      ],
      "metadata": {
        "id": "Pv9VrxRx7ChC"
      },
      "execution_count": null,
      "outputs": []
    },
    {
      "cell_type": "code",
      "source": [
        "class big():\n",
        "  def max(l1,N):\n",
        "       f_l=[]\n",
        "       for i in range(0,N):\n",
        "        max=0\n",
        "        for j in range(len(l1)):\n",
        "          if l1[j]>max:\n",
        "            max=l1[j]\n",
        "        l1.remove(max)\n",
        "        f_l.append(max)\n",
        "       return print(f_l)\n",
        "\n",
        "  l1=[4,8,5,9]\n",
        "  N=2\n",
        "  max(l1,N)\n",
        "\n"
      ],
      "metadata": {
        "colab": {
          "base_uri": "https://localhost:8080/"
        },
        "id": "iA0all5M5MD2",
        "outputId": "644d33d6-6949-42f6-ca75-08e2df42551c"
      },
      "execution_count": null,
      "outputs": [
        {
          "output_type": "stream",
          "name": "stdout",
          "text": [
            "[9, 8]\n"
          ]
        }
      ]
    },
    {
      "cell_type": "code",
      "source": [
        "import pandas as pd\n",
        "import numpy as np\n",
        "import matplotlib.pyplot as plt\n",
        "import seaborn as sns\n",
        "df1=pd.read_csv('/emp.csv')\n",
        "df1.head()"
      ],
      "metadata": {
        "colab": {
          "base_uri": "https://localhost:8080/",
          "height": 206
        },
        "id": "hNESCOaBVQzB",
        "outputId": "fbbace41-c85d-4166-aac7-95c1987a8c41"
      },
      "execution_count": null,
      "outputs": [
        {
          "output_type": "execute_result",
          "data": {
            "text/plain": [
              "   empid       empname  depid    depname  salary  age country       city  \\\n",
              "0    101  Employee_101      1  Marketing   56630   30   India     Mumbai   \n",
              "1    102  Employee_102      1  Marketing   51934   38      UK     Mumbai   \n",
              "2    103  Employee_103      3         IT   62224   32   India    Chicago   \n",
              "3    104  Employee_104      2         HR   80982   50      UK  Vancouver   \n",
              "4    105  Employee_105      2         HR   71798   57  Canada  Vancouver   \n",
              "\n",
              "  state manager_name  manager_ID  \n",
              "0    ON  Laura Green         202  \n",
              "1    NY  Laura Green         208  \n",
              "2    MH   John Black         205  \n",
              "3    IL  Laura Green         207  \n",
              "4    MH  Laura Green         205  "
            ],
            "text/html": [
              "\n",
              "  <div id=\"df-a6ced756-5506-4214-92af-80a09ae8aa1c\" class=\"colab-df-container\">\n",
              "    <div>\n",
              "<style scoped>\n",
              "    .dataframe tbody tr th:only-of-type {\n",
              "        vertical-align: middle;\n",
              "    }\n",
              "\n",
              "    .dataframe tbody tr th {\n",
              "        vertical-align: top;\n",
              "    }\n",
              "\n",
              "    .dataframe thead th {\n",
              "        text-align: right;\n",
              "    }\n",
              "</style>\n",
              "<table border=\"1\" class=\"dataframe\">\n",
              "  <thead>\n",
              "    <tr style=\"text-align: right;\">\n",
              "      <th></th>\n",
              "      <th>empid</th>\n",
              "      <th>empname</th>\n",
              "      <th>depid</th>\n",
              "      <th>depname</th>\n",
              "      <th>salary</th>\n",
              "      <th>age</th>\n",
              "      <th>country</th>\n",
              "      <th>city</th>\n",
              "      <th>state</th>\n",
              "      <th>manager_name</th>\n",
              "      <th>manager_ID</th>\n",
              "    </tr>\n",
              "  </thead>\n",
              "  <tbody>\n",
              "    <tr>\n",
              "      <th>0</th>\n",
              "      <td>101</td>\n",
              "      <td>Employee_101</td>\n",
              "      <td>1</td>\n",
              "      <td>Marketing</td>\n",
              "      <td>56630</td>\n",
              "      <td>30</td>\n",
              "      <td>India</td>\n",
              "      <td>Mumbai</td>\n",
              "      <td>ON</td>\n",
              "      <td>Laura Green</td>\n",
              "      <td>202</td>\n",
              "    </tr>\n",
              "    <tr>\n",
              "      <th>1</th>\n",
              "      <td>102</td>\n",
              "      <td>Employee_102</td>\n",
              "      <td>1</td>\n",
              "      <td>Marketing</td>\n",
              "      <td>51934</td>\n",
              "      <td>38</td>\n",
              "      <td>UK</td>\n",
              "      <td>Mumbai</td>\n",
              "      <td>NY</td>\n",
              "      <td>Laura Green</td>\n",
              "      <td>208</td>\n",
              "    </tr>\n",
              "    <tr>\n",
              "      <th>2</th>\n",
              "      <td>103</td>\n",
              "      <td>Employee_103</td>\n",
              "      <td>3</td>\n",
              "      <td>IT</td>\n",
              "      <td>62224</td>\n",
              "      <td>32</td>\n",
              "      <td>India</td>\n",
              "      <td>Chicago</td>\n",
              "      <td>MH</td>\n",
              "      <td>John Black</td>\n",
              "      <td>205</td>\n",
              "    </tr>\n",
              "    <tr>\n",
              "      <th>3</th>\n",
              "      <td>104</td>\n",
              "      <td>Employee_104</td>\n",
              "      <td>2</td>\n",
              "      <td>HR</td>\n",
              "      <td>80982</td>\n",
              "      <td>50</td>\n",
              "      <td>UK</td>\n",
              "      <td>Vancouver</td>\n",
              "      <td>IL</td>\n",
              "      <td>Laura Green</td>\n",
              "      <td>207</td>\n",
              "    </tr>\n",
              "    <tr>\n",
              "      <th>4</th>\n",
              "      <td>105</td>\n",
              "      <td>Employee_105</td>\n",
              "      <td>2</td>\n",
              "      <td>HR</td>\n",
              "      <td>71798</td>\n",
              "      <td>57</td>\n",
              "      <td>Canada</td>\n",
              "      <td>Vancouver</td>\n",
              "      <td>MH</td>\n",
              "      <td>Laura Green</td>\n",
              "      <td>205</td>\n",
              "    </tr>\n",
              "  </tbody>\n",
              "</table>\n",
              "</div>\n",
              "    <div class=\"colab-df-buttons\">\n",
              "\n",
              "  <div class=\"colab-df-container\">\n",
              "    <button class=\"colab-df-convert\" onclick=\"convertToInteractive('df-a6ced756-5506-4214-92af-80a09ae8aa1c')\"\n",
              "            title=\"Convert this dataframe to an interactive table.\"\n",
              "            style=\"display:none;\">\n",
              "\n",
              "  <svg xmlns=\"http://www.w3.org/2000/svg\" height=\"24px\" viewBox=\"0 -960 960 960\">\n",
              "    <path d=\"M120-120v-720h720v720H120Zm60-500h600v-160H180v160Zm220 220h160v-160H400v160Zm0 220h160v-160H400v160ZM180-400h160v-160H180v160Zm440 0h160v-160H620v160ZM180-180h160v-160H180v160Zm440 0h160v-160H620v160Z\"/>\n",
              "  </svg>\n",
              "    </button>\n",
              "\n",
              "  <style>\n",
              "    .colab-df-container {\n",
              "      display:flex;\n",
              "      gap: 12px;\n",
              "    }\n",
              "\n",
              "    .colab-df-convert {\n",
              "      background-color: #E8F0FE;\n",
              "      border: none;\n",
              "      border-radius: 50%;\n",
              "      cursor: pointer;\n",
              "      display: none;\n",
              "      fill: #1967D2;\n",
              "      height: 32px;\n",
              "      padding: 0 0 0 0;\n",
              "      width: 32px;\n",
              "    }\n",
              "\n",
              "    .colab-df-convert:hover {\n",
              "      background-color: #E2EBFA;\n",
              "      box-shadow: 0px 1px 2px rgba(60, 64, 67, 0.3), 0px 1px 3px 1px rgba(60, 64, 67, 0.15);\n",
              "      fill: #174EA6;\n",
              "    }\n",
              "\n",
              "    .colab-df-buttons div {\n",
              "      margin-bottom: 4px;\n",
              "    }\n",
              "\n",
              "    [theme=dark] .colab-df-convert {\n",
              "      background-color: #3B4455;\n",
              "      fill: #D2E3FC;\n",
              "    }\n",
              "\n",
              "    [theme=dark] .colab-df-convert:hover {\n",
              "      background-color: #434B5C;\n",
              "      box-shadow: 0px 1px 3px 1px rgba(0, 0, 0, 0.15);\n",
              "      filter: drop-shadow(0px 1px 2px rgba(0, 0, 0, 0.3));\n",
              "      fill: #FFFFFF;\n",
              "    }\n",
              "  </style>\n",
              "\n",
              "    <script>\n",
              "      const buttonEl =\n",
              "        document.querySelector('#df-a6ced756-5506-4214-92af-80a09ae8aa1c button.colab-df-convert');\n",
              "      buttonEl.style.display =\n",
              "        google.colab.kernel.accessAllowed ? 'block' : 'none';\n",
              "\n",
              "      async function convertToInteractive(key) {\n",
              "        const element = document.querySelector('#df-a6ced756-5506-4214-92af-80a09ae8aa1c');\n",
              "        const dataTable =\n",
              "          await google.colab.kernel.invokeFunction('convertToInteractive',\n",
              "                                                    [key], {});\n",
              "        if (!dataTable) return;\n",
              "\n",
              "        const docLinkHtml = 'Like what you see? Visit the ' +\n",
              "          '<a target=\"_blank\" href=https://colab.research.google.com/notebooks/data_table.ipynb>data table notebook</a>'\n",
              "          + ' to learn more about interactive tables.';\n",
              "        element.innerHTML = '';\n",
              "        dataTable['output_type'] = 'display_data';\n",
              "        await google.colab.output.renderOutput(dataTable, element);\n",
              "        const docLink = document.createElement('div');\n",
              "        docLink.innerHTML = docLinkHtml;\n",
              "        element.appendChild(docLink);\n",
              "      }\n",
              "    </script>\n",
              "  </div>\n",
              "\n",
              "\n",
              "<div id=\"df-71c5f64d-2276-4ca8-a9ab-37b0f90e3837\">\n",
              "  <button class=\"colab-df-quickchart\" onclick=\"quickchart('df-71c5f64d-2276-4ca8-a9ab-37b0f90e3837')\"\n",
              "            title=\"Suggest charts\"\n",
              "            style=\"display:none;\">\n",
              "\n",
              "<svg xmlns=\"http://www.w3.org/2000/svg\" height=\"24px\"viewBox=\"0 0 24 24\"\n",
              "     width=\"24px\">\n",
              "    <g>\n",
              "        <path d=\"M19 3H5c-1.1 0-2 .9-2 2v14c0 1.1.9 2 2 2h14c1.1 0 2-.9 2-2V5c0-1.1-.9-2-2-2zM9 17H7v-7h2v7zm4 0h-2V7h2v10zm4 0h-2v-4h2v4z\"/>\n",
              "    </g>\n",
              "</svg>\n",
              "  </button>\n",
              "\n",
              "<style>\n",
              "  .colab-df-quickchart {\n",
              "      --bg-color: #E8F0FE;\n",
              "      --fill-color: #1967D2;\n",
              "      --hover-bg-color: #E2EBFA;\n",
              "      --hover-fill-color: #174EA6;\n",
              "      --disabled-fill-color: #AAA;\n",
              "      --disabled-bg-color: #DDD;\n",
              "  }\n",
              "\n",
              "  [theme=dark] .colab-df-quickchart {\n",
              "      --bg-color: #3B4455;\n",
              "      --fill-color: #D2E3FC;\n",
              "      --hover-bg-color: #434B5C;\n",
              "      --hover-fill-color: #FFFFFF;\n",
              "      --disabled-bg-color: #3B4455;\n",
              "      --disabled-fill-color: #666;\n",
              "  }\n",
              "\n",
              "  .colab-df-quickchart {\n",
              "    background-color: var(--bg-color);\n",
              "    border: none;\n",
              "    border-radius: 50%;\n",
              "    cursor: pointer;\n",
              "    display: none;\n",
              "    fill: var(--fill-color);\n",
              "    height: 32px;\n",
              "    padding: 0;\n",
              "    width: 32px;\n",
              "  }\n",
              "\n",
              "  .colab-df-quickchart:hover {\n",
              "    background-color: var(--hover-bg-color);\n",
              "    box-shadow: 0 1px 2px rgba(60, 64, 67, 0.3), 0 1px 3px 1px rgba(60, 64, 67, 0.15);\n",
              "    fill: var(--button-hover-fill-color);\n",
              "  }\n",
              "\n",
              "  .colab-df-quickchart-complete:disabled,\n",
              "  .colab-df-quickchart-complete:disabled:hover {\n",
              "    background-color: var(--disabled-bg-color);\n",
              "    fill: var(--disabled-fill-color);\n",
              "    box-shadow: none;\n",
              "  }\n",
              "\n",
              "  .colab-df-spinner {\n",
              "    border: 2px solid var(--fill-color);\n",
              "    border-color: transparent;\n",
              "    border-bottom-color: var(--fill-color);\n",
              "    animation:\n",
              "      spin 1s steps(1) infinite;\n",
              "  }\n",
              "\n",
              "  @keyframes spin {\n",
              "    0% {\n",
              "      border-color: transparent;\n",
              "      border-bottom-color: var(--fill-color);\n",
              "      border-left-color: var(--fill-color);\n",
              "    }\n",
              "    20% {\n",
              "      border-color: transparent;\n",
              "      border-left-color: var(--fill-color);\n",
              "      border-top-color: var(--fill-color);\n",
              "    }\n",
              "    30% {\n",
              "      border-color: transparent;\n",
              "      border-left-color: var(--fill-color);\n",
              "      border-top-color: var(--fill-color);\n",
              "      border-right-color: var(--fill-color);\n",
              "    }\n",
              "    40% {\n",
              "      border-color: transparent;\n",
              "      border-right-color: var(--fill-color);\n",
              "      border-top-color: var(--fill-color);\n",
              "    }\n",
              "    60% {\n",
              "      border-color: transparent;\n",
              "      border-right-color: var(--fill-color);\n",
              "    }\n",
              "    80% {\n",
              "      border-color: transparent;\n",
              "      border-right-color: var(--fill-color);\n",
              "      border-bottom-color: var(--fill-color);\n",
              "    }\n",
              "    90% {\n",
              "      border-color: transparent;\n",
              "      border-bottom-color: var(--fill-color);\n",
              "    }\n",
              "  }\n",
              "</style>\n",
              "\n",
              "  <script>\n",
              "    async function quickchart(key) {\n",
              "      const quickchartButtonEl =\n",
              "        document.querySelector('#' + key + ' button');\n",
              "      quickchartButtonEl.disabled = true;  // To prevent multiple clicks.\n",
              "      quickchartButtonEl.classList.add('colab-df-spinner');\n",
              "      try {\n",
              "        const charts = await google.colab.kernel.invokeFunction(\n",
              "            'suggestCharts', [key], {});\n",
              "      } catch (error) {\n",
              "        console.error('Error during call to suggestCharts:', error);\n",
              "      }\n",
              "      quickchartButtonEl.classList.remove('colab-df-spinner');\n",
              "      quickchartButtonEl.classList.add('colab-df-quickchart-complete');\n",
              "    }\n",
              "    (() => {\n",
              "      let quickchartButtonEl =\n",
              "        document.querySelector('#df-71c5f64d-2276-4ca8-a9ab-37b0f90e3837 button');\n",
              "      quickchartButtonEl.style.display =\n",
              "        google.colab.kernel.accessAllowed ? 'block' : 'none';\n",
              "    })();\n",
              "  </script>\n",
              "</div>\n",
              "\n",
              "    </div>\n",
              "  </div>\n"
            ],
            "application/vnd.google.colaboratory.intrinsic+json": {
              "type": "dataframe",
              "variable_name": "df1",
              "summary": "{\n  \"name\": \"df1\",\n  \"rows\": 100,\n  \"fields\": [\n    {\n      \"column\": \"empid\",\n      \"properties\": {\n        \"dtype\": \"number\",\n        \"std\": 29,\n        \"min\": 101,\n        \"max\": 200,\n        \"num_unique_values\": 100,\n        \"samples\": [\n          184,\n          154,\n          171\n        ],\n        \"semantic_type\": \"\",\n        \"description\": \"\"\n      }\n    },\n    {\n      \"column\": \"empname\",\n      \"properties\": {\n        \"dtype\": \"string\",\n        \"num_unique_values\": 100,\n        \"samples\": [\n          \"Employee_184\",\n          \"Employee_154\",\n          \"Employee_171\"\n        ],\n        \"semantic_type\": \"\",\n        \"description\": \"\"\n      }\n    },\n    {\n      \"column\": \"depid\",\n      \"properties\": {\n        \"dtype\": \"number\",\n        \"std\": 1,\n        \"min\": 1,\n        \"max\": 4,\n        \"num_unique_values\": 4,\n        \"samples\": [\n          3,\n          4,\n          1\n        ],\n        \"semantic_type\": \"\",\n        \"description\": \"\"\n      }\n    },\n    {\n      \"column\": \"depname\",\n      \"properties\": {\n        \"dtype\": \"category\",\n        \"num_unique_values\": 4,\n        \"samples\": [\n          \"IT\",\n          \"Finance\",\n          \"Marketing\"\n        ],\n        \"semantic_type\": \"\",\n        \"description\": \"\"\n      }\n    },\n    {\n      \"column\": \"salary\",\n      \"properties\": {\n        \"dtype\": \"number\",\n        \"std\": 20310,\n        \"min\": 50282,\n        \"max\": 119615,\n        \"num_unique_values\": 99,\n        \"samples\": [\n          59602,\n          102923,\n          86265\n        ],\n        \"semantic_type\": \"\",\n        \"description\": \"\"\n      }\n    },\n    {\n      \"column\": \"age\",\n      \"properties\": {\n        \"dtype\": \"number\",\n        \"std\": 10,\n        \"min\": 22,\n        \"max\": 60,\n        \"num_unique_values\": 35,\n        \"samples\": [\n          36,\n          59,\n          46\n        ],\n        \"semantic_type\": \"\",\n        \"description\": \"\"\n      }\n    },\n    {\n      \"column\": \"country\",\n      \"properties\": {\n        \"dtype\": \"category\",\n        \"num_unique_values\": 4,\n        \"samples\": [\n          \"UK\",\n          \"USA\",\n          \"India\"\n        ],\n        \"semantic_type\": \"\",\n        \"description\": \"\"\n      }\n    },\n    {\n      \"column\": \"city\",\n      \"properties\": {\n        \"dtype\": \"category\",\n        \"num_unique_values\": 6,\n        \"samples\": [\n          \"Mumbai\",\n          \"Chicago\",\n          \"New York\"\n        ],\n        \"semantic_type\": \"\",\n        \"description\": \"\"\n      }\n    },\n    {\n      \"column\": \"state\",\n      \"properties\": {\n        \"dtype\": \"category\",\n        \"num_unique_values\": 6,\n        \"samples\": [\n          \"ON\",\n          \"NY\",\n          \"BC\"\n        ],\n        \"semantic_type\": \"\",\n        \"description\": \"\"\n      }\n    },\n    {\n      \"column\": \"manager_name\",\n      \"properties\": {\n        \"dtype\": \"category\",\n        \"num_unique_values\": 4,\n        \"samples\": [\n          \"John Black\",\n          \"Emily White\",\n          \"Laura Green\"\n        ],\n        \"semantic_type\": \"\",\n        \"description\": \"\"\n      }\n    },\n    {\n      \"column\": \"manager_ID\",\n      \"properties\": {\n        \"dtype\": \"number\",\n        \"std\": 2,\n        \"min\": 201,\n        \"max\": 210,\n        \"num_unique_values\": 10,\n        \"samples\": [\n          204,\n          208,\n          210\n        ],\n        \"semantic_type\": \"\",\n        \"description\": \"\"\n      }\n    }\n  ]\n}"
            }
          },
          "metadata": {},
          "execution_count": 4
        }
      ]
    },
    {
      "cell_type": "code",
      "source": [
        "df_USA=df1[df1['country']=='USA']\n",
        "df_USA.shape[0]\n",
        "#\"\"\"COUNT(1) SIMILAR SHAPE[0]\"\"\""
      ],
      "metadata": {
        "colab": {
          "base_uri": "https://localhost:8080/"
        },
        "id": "nG9x79MQWKlM",
        "outputId": "a0ca0810-ce2c-48cb-cbd5-27df42f4fad7"
      },
      "execution_count": null,
      "outputs": [
        {
          "output_type": "execute_result",
          "data": {
            "text/plain": [
              "16"
            ]
          },
          "metadata": {},
          "execution_count": 9
        }
      ]
    },
    {
      "cell_type": "code",
      "source": [
        "df1[df1['country']=='USA'].groupby('state')['salary'].sum()"
      ],
      "metadata": {
        "colab": {
          "base_uri": "https://localhost:8080/",
          "height": 304
        },
        "id": "6fNpfeTEX-Uy",
        "outputId": "803b3577-918d-4386-ae58-4458aa0ce9b3"
      },
      "execution_count": null,
      "outputs": [
        {
          "output_type": "execute_result",
          "data": {
            "text/plain": [
              "state\n",
              "BC    264457\n",
              "IL    404910\n",
              "MA     55778\n",
              "MH    243024\n",
              "NY    173050\n",
              "ON    205484\n",
              "Name: salary, dtype: int64"
            ],
            "text/html": [
              "<div>\n",
              "<style scoped>\n",
              "    .dataframe tbody tr th:only-of-type {\n",
              "        vertical-align: middle;\n",
              "    }\n",
              "\n",
              "    .dataframe tbody tr th {\n",
              "        vertical-align: top;\n",
              "    }\n",
              "\n",
              "    .dataframe thead th {\n",
              "        text-align: right;\n",
              "    }\n",
              "</style>\n",
              "<table border=\"1\" class=\"dataframe\">\n",
              "  <thead>\n",
              "    <tr style=\"text-align: right;\">\n",
              "      <th></th>\n",
              "      <th>salary</th>\n",
              "    </tr>\n",
              "    <tr>\n",
              "      <th>state</th>\n",
              "      <th></th>\n",
              "    </tr>\n",
              "  </thead>\n",
              "  <tbody>\n",
              "    <tr>\n",
              "      <th>BC</th>\n",
              "      <td>264457</td>\n",
              "    </tr>\n",
              "    <tr>\n",
              "      <th>IL</th>\n",
              "      <td>404910</td>\n",
              "    </tr>\n",
              "    <tr>\n",
              "      <th>MA</th>\n",
              "      <td>55778</td>\n",
              "    </tr>\n",
              "    <tr>\n",
              "      <th>MH</th>\n",
              "      <td>243024</td>\n",
              "    </tr>\n",
              "    <tr>\n",
              "      <th>NY</th>\n",
              "      <td>173050</td>\n",
              "    </tr>\n",
              "    <tr>\n",
              "      <th>ON</th>\n",
              "      <td>205484</td>\n",
              "    </tr>\n",
              "  </tbody>\n",
              "</table>\n",
              "</div><br><label><b>dtype:</b> int64</label>"
            ]
          },
          "metadata": {},
          "execution_count": 5
        }
      ]
    },
    {
      "cell_type": "code",
      "source": [
        "df1"
      ],
      "metadata": {
        "id": "_xV0DaiJ_txM",
        "outputId": "396571b5-870b-45be-cd84-4983b920061e",
        "colab": {
          "base_uri": "https://localhost:8080/",
          "height": 424
        }
      },
      "execution_count": null,
      "outputs": [
        {
          "output_type": "execute_result",
          "data": {
            "text/plain": [
              "    empid       empname  depid    depname  salary  age country       city  \\\n",
              "0     101  Employee_101      1  Marketing   56630   30   India     Mumbai   \n",
              "1     102  Employee_102      1  Marketing   51934   38      UK     Mumbai   \n",
              "2     103  Employee_103      3         IT   62224   32   India    Chicago   \n",
              "3     104  Employee_104      2         HR   80982   50      UK  Vancouver   \n",
              "4     105  Employee_105      2         HR   71798   57  Canada  Vancouver   \n",
              "..    ...           ...    ...        ...     ...  ...     ...        ...   \n",
              "95    196  Employee_196      2  Marketing  105518   42   India    Toronto   \n",
              "96    197  Employee_197      2    Finance   86265   29   India   New York   \n",
              "97    198  Employee_198      4         HR   55778   41     USA    Chicago   \n",
              "98    199  Employee_199      1  Marketing   50464   54      UK  Vancouver   \n",
              "99    200  Employee_200      4         HR   93719   41      UK  Vancouver   \n",
              "\n",
              "   state   manager_name  manager_ID  \n",
              "0     ON    Laura Green         202  \n",
              "1     NY    Laura Green         208  \n",
              "2     MH     John Black         205  \n",
              "3     IL    Laura Green         207  \n",
              "4     MH    Laura Green         205  \n",
              "..   ...            ...         ...  \n",
              "95    BC    Emily White         205  \n",
              "96    MA  Michael Scott         207  \n",
              "97    MA    Laura Green         208  \n",
              "98    IL    Laura Green         208  \n",
              "99    BC     John Black         204  \n",
              "\n",
              "[100 rows x 11 columns]"
            ],
            "text/html": [
              "\n",
              "  <div id=\"df-787d00f9-29d0-49dc-b672-2ddc7940d6f9\" class=\"colab-df-container\">\n",
              "    <div>\n",
              "<style scoped>\n",
              "    .dataframe tbody tr th:only-of-type {\n",
              "        vertical-align: middle;\n",
              "    }\n",
              "\n",
              "    .dataframe tbody tr th {\n",
              "        vertical-align: top;\n",
              "    }\n",
              "\n",
              "    .dataframe thead th {\n",
              "        text-align: right;\n",
              "    }\n",
              "</style>\n",
              "<table border=\"1\" class=\"dataframe\">\n",
              "  <thead>\n",
              "    <tr style=\"text-align: right;\">\n",
              "      <th></th>\n",
              "      <th>empid</th>\n",
              "      <th>empname</th>\n",
              "      <th>depid</th>\n",
              "      <th>depname</th>\n",
              "      <th>salary</th>\n",
              "      <th>age</th>\n",
              "      <th>country</th>\n",
              "      <th>city</th>\n",
              "      <th>state</th>\n",
              "      <th>manager_name</th>\n",
              "      <th>manager_ID</th>\n",
              "    </tr>\n",
              "  </thead>\n",
              "  <tbody>\n",
              "    <tr>\n",
              "      <th>0</th>\n",
              "      <td>101</td>\n",
              "      <td>Employee_101</td>\n",
              "      <td>1</td>\n",
              "      <td>Marketing</td>\n",
              "      <td>56630</td>\n",
              "      <td>30</td>\n",
              "      <td>India</td>\n",
              "      <td>Mumbai</td>\n",
              "      <td>ON</td>\n",
              "      <td>Laura Green</td>\n",
              "      <td>202</td>\n",
              "    </tr>\n",
              "    <tr>\n",
              "      <th>1</th>\n",
              "      <td>102</td>\n",
              "      <td>Employee_102</td>\n",
              "      <td>1</td>\n",
              "      <td>Marketing</td>\n",
              "      <td>51934</td>\n",
              "      <td>38</td>\n",
              "      <td>UK</td>\n",
              "      <td>Mumbai</td>\n",
              "      <td>NY</td>\n",
              "      <td>Laura Green</td>\n",
              "      <td>208</td>\n",
              "    </tr>\n",
              "    <tr>\n",
              "      <th>2</th>\n",
              "      <td>103</td>\n",
              "      <td>Employee_103</td>\n",
              "      <td>3</td>\n",
              "      <td>IT</td>\n",
              "      <td>62224</td>\n",
              "      <td>32</td>\n",
              "      <td>India</td>\n",
              "      <td>Chicago</td>\n",
              "      <td>MH</td>\n",
              "      <td>John Black</td>\n",
              "      <td>205</td>\n",
              "    </tr>\n",
              "    <tr>\n",
              "      <th>3</th>\n",
              "      <td>104</td>\n",
              "      <td>Employee_104</td>\n",
              "      <td>2</td>\n",
              "      <td>HR</td>\n",
              "      <td>80982</td>\n",
              "      <td>50</td>\n",
              "      <td>UK</td>\n",
              "      <td>Vancouver</td>\n",
              "      <td>IL</td>\n",
              "      <td>Laura Green</td>\n",
              "      <td>207</td>\n",
              "    </tr>\n",
              "    <tr>\n",
              "      <th>4</th>\n",
              "      <td>105</td>\n",
              "      <td>Employee_105</td>\n",
              "      <td>2</td>\n",
              "      <td>HR</td>\n",
              "      <td>71798</td>\n",
              "      <td>57</td>\n",
              "      <td>Canada</td>\n",
              "      <td>Vancouver</td>\n",
              "      <td>MH</td>\n",
              "      <td>Laura Green</td>\n",
              "      <td>205</td>\n",
              "    </tr>\n",
              "    <tr>\n",
              "      <th>...</th>\n",
              "      <td>...</td>\n",
              "      <td>...</td>\n",
              "      <td>...</td>\n",
              "      <td>...</td>\n",
              "      <td>...</td>\n",
              "      <td>...</td>\n",
              "      <td>...</td>\n",
              "      <td>...</td>\n",
              "      <td>...</td>\n",
              "      <td>...</td>\n",
              "      <td>...</td>\n",
              "    </tr>\n",
              "    <tr>\n",
              "      <th>95</th>\n",
              "      <td>196</td>\n",
              "      <td>Employee_196</td>\n",
              "      <td>2</td>\n",
              "      <td>Marketing</td>\n",
              "      <td>105518</td>\n",
              "      <td>42</td>\n",
              "      <td>India</td>\n",
              "      <td>Toronto</td>\n",
              "      <td>BC</td>\n",
              "      <td>Emily White</td>\n",
              "      <td>205</td>\n",
              "    </tr>\n",
              "    <tr>\n",
              "      <th>96</th>\n",
              "      <td>197</td>\n",
              "      <td>Employee_197</td>\n",
              "      <td>2</td>\n",
              "      <td>Finance</td>\n",
              "      <td>86265</td>\n",
              "      <td>29</td>\n",
              "      <td>India</td>\n",
              "      <td>New York</td>\n",
              "      <td>MA</td>\n",
              "      <td>Michael Scott</td>\n",
              "      <td>207</td>\n",
              "    </tr>\n",
              "    <tr>\n",
              "      <th>97</th>\n",
              "      <td>198</td>\n",
              "      <td>Employee_198</td>\n",
              "      <td>4</td>\n",
              "      <td>HR</td>\n",
              "      <td>55778</td>\n",
              "      <td>41</td>\n",
              "      <td>USA</td>\n",
              "      <td>Chicago</td>\n",
              "      <td>MA</td>\n",
              "      <td>Laura Green</td>\n",
              "      <td>208</td>\n",
              "    </tr>\n",
              "    <tr>\n",
              "      <th>98</th>\n",
              "      <td>199</td>\n",
              "      <td>Employee_199</td>\n",
              "      <td>1</td>\n",
              "      <td>Marketing</td>\n",
              "      <td>50464</td>\n",
              "      <td>54</td>\n",
              "      <td>UK</td>\n",
              "      <td>Vancouver</td>\n",
              "      <td>IL</td>\n",
              "      <td>Laura Green</td>\n",
              "      <td>208</td>\n",
              "    </tr>\n",
              "    <tr>\n",
              "      <th>99</th>\n",
              "      <td>200</td>\n",
              "      <td>Employee_200</td>\n",
              "      <td>4</td>\n",
              "      <td>HR</td>\n",
              "      <td>93719</td>\n",
              "      <td>41</td>\n",
              "      <td>UK</td>\n",
              "      <td>Vancouver</td>\n",
              "      <td>BC</td>\n",
              "      <td>John Black</td>\n",
              "      <td>204</td>\n",
              "    </tr>\n",
              "  </tbody>\n",
              "</table>\n",
              "<p>100 rows × 11 columns</p>\n",
              "</div>\n",
              "    <div class=\"colab-df-buttons\">\n",
              "\n",
              "  <div class=\"colab-df-container\">\n",
              "    <button class=\"colab-df-convert\" onclick=\"convertToInteractive('df-787d00f9-29d0-49dc-b672-2ddc7940d6f9')\"\n",
              "            title=\"Convert this dataframe to an interactive table.\"\n",
              "            style=\"display:none;\">\n",
              "\n",
              "  <svg xmlns=\"http://www.w3.org/2000/svg\" height=\"24px\" viewBox=\"0 -960 960 960\">\n",
              "    <path d=\"M120-120v-720h720v720H120Zm60-500h600v-160H180v160Zm220 220h160v-160H400v160Zm0 220h160v-160H400v160ZM180-400h160v-160H180v160Zm440 0h160v-160H620v160ZM180-180h160v-160H180v160Zm440 0h160v-160H620v160Z\"/>\n",
              "  </svg>\n",
              "    </button>\n",
              "\n",
              "  <style>\n",
              "    .colab-df-container {\n",
              "      display:flex;\n",
              "      gap: 12px;\n",
              "    }\n",
              "\n",
              "    .colab-df-convert {\n",
              "      background-color: #E8F0FE;\n",
              "      border: none;\n",
              "      border-radius: 50%;\n",
              "      cursor: pointer;\n",
              "      display: none;\n",
              "      fill: #1967D2;\n",
              "      height: 32px;\n",
              "      padding: 0 0 0 0;\n",
              "      width: 32px;\n",
              "    }\n",
              "\n",
              "    .colab-df-convert:hover {\n",
              "      background-color: #E2EBFA;\n",
              "      box-shadow: 0px 1px 2px rgba(60, 64, 67, 0.3), 0px 1px 3px 1px rgba(60, 64, 67, 0.15);\n",
              "      fill: #174EA6;\n",
              "    }\n",
              "\n",
              "    .colab-df-buttons div {\n",
              "      margin-bottom: 4px;\n",
              "    }\n",
              "\n",
              "    [theme=dark] .colab-df-convert {\n",
              "      background-color: #3B4455;\n",
              "      fill: #D2E3FC;\n",
              "    }\n",
              "\n",
              "    [theme=dark] .colab-df-convert:hover {\n",
              "      background-color: #434B5C;\n",
              "      box-shadow: 0px 1px 3px 1px rgba(0, 0, 0, 0.15);\n",
              "      filter: drop-shadow(0px 1px 2px rgba(0, 0, 0, 0.3));\n",
              "      fill: #FFFFFF;\n",
              "    }\n",
              "  </style>\n",
              "\n",
              "    <script>\n",
              "      const buttonEl =\n",
              "        document.querySelector('#df-787d00f9-29d0-49dc-b672-2ddc7940d6f9 button.colab-df-convert');\n",
              "      buttonEl.style.display =\n",
              "        google.colab.kernel.accessAllowed ? 'block' : 'none';\n",
              "\n",
              "      async function convertToInteractive(key) {\n",
              "        const element = document.querySelector('#df-787d00f9-29d0-49dc-b672-2ddc7940d6f9');\n",
              "        const dataTable =\n",
              "          await google.colab.kernel.invokeFunction('convertToInteractive',\n",
              "                                                    [key], {});\n",
              "        if (!dataTable) return;\n",
              "\n",
              "        const docLinkHtml = 'Like what you see? Visit the ' +\n",
              "          '<a target=\"_blank\" href=https://colab.research.google.com/notebooks/data_table.ipynb>data table notebook</a>'\n",
              "          + ' to learn more about interactive tables.';\n",
              "        element.innerHTML = '';\n",
              "        dataTable['output_type'] = 'display_data';\n",
              "        await google.colab.output.renderOutput(dataTable, element);\n",
              "        const docLink = document.createElement('div');\n",
              "        docLink.innerHTML = docLinkHtml;\n",
              "        element.appendChild(docLink);\n",
              "      }\n",
              "    </script>\n",
              "  </div>\n",
              "\n",
              "\n",
              "<div id=\"df-ed0eebc1-082b-40b7-b993-4b0b59af27eb\">\n",
              "  <button class=\"colab-df-quickchart\" onclick=\"quickchart('df-ed0eebc1-082b-40b7-b993-4b0b59af27eb')\"\n",
              "            title=\"Suggest charts\"\n",
              "            style=\"display:none;\">\n",
              "\n",
              "<svg xmlns=\"http://www.w3.org/2000/svg\" height=\"24px\"viewBox=\"0 0 24 24\"\n",
              "     width=\"24px\">\n",
              "    <g>\n",
              "        <path d=\"M19 3H5c-1.1 0-2 .9-2 2v14c0 1.1.9 2 2 2h14c1.1 0 2-.9 2-2V5c0-1.1-.9-2-2-2zM9 17H7v-7h2v7zm4 0h-2V7h2v10zm4 0h-2v-4h2v4z\"/>\n",
              "    </g>\n",
              "</svg>\n",
              "  </button>\n",
              "\n",
              "<style>\n",
              "  .colab-df-quickchart {\n",
              "      --bg-color: #E8F0FE;\n",
              "      --fill-color: #1967D2;\n",
              "      --hover-bg-color: #E2EBFA;\n",
              "      --hover-fill-color: #174EA6;\n",
              "      --disabled-fill-color: #AAA;\n",
              "      --disabled-bg-color: #DDD;\n",
              "  }\n",
              "\n",
              "  [theme=dark] .colab-df-quickchart {\n",
              "      --bg-color: #3B4455;\n",
              "      --fill-color: #D2E3FC;\n",
              "      --hover-bg-color: #434B5C;\n",
              "      --hover-fill-color: #FFFFFF;\n",
              "      --disabled-bg-color: #3B4455;\n",
              "      --disabled-fill-color: #666;\n",
              "  }\n",
              "\n",
              "  .colab-df-quickchart {\n",
              "    background-color: var(--bg-color);\n",
              "    border: none;\n",
              "    border-radius: 50%;\n",
              "    cursor: pointer;\n",
              "    display: none;\n",
              "    fill: var(--fill-color);\n",
              "    height: 32px;\n",
              "    padding: 0;\n",
              "    width: 32px;\n",
              "  }\n",
              "\n",
              "  .colab-df-quickchart:hover {\n",
              "    background-color: var(--hover-bg-color);\n",
              "    box-shadow: 0 1px 2px rgba(60, 64, 67, 0.3), 0 1px 3px 1px rgba(60, 64, 67, 0.15);\n",
              "    fill: var(--button-hover-fill-color);\n",
              "  }\n",
              "\n",
              "  .colab-df-quickchart-complete:disabled,\n",
              "  .colab-df-quickchart-complete:disabled:hover {\n",
              "    background-color: var(--disabled-bg-color);\n",
              "    fill: var(--disabled-fill-color);\n",
              "    box-shadow: none;\n",
              "  }\n",
              "\n",
              "  .colab-df-spinner {\n",
              "    border: 2px solid var(--fill-color);\n",
              "    border-color: transparent;\n",
              "    border-bottom-color: var(--fill-color);\n",
              "    animation:\n",
              "      spin 1s steps(1) infinite;\n",
              "  }\n",
              "\n",
              "  @keyframes spin {\n",
              "    0% {\n",
              "      border-color: transparent;\n",
              "      border-bottom-color: var(--fill-color);\n",
              "      border-left-color: var(--fill-color);\n",
              "    }\n",
              "    20% {\n",
              "      border-color: transparent;\n",
              "      border-left-color: var(--fill-color);\n",
              "      border-top-color: var(--fill-color);\n",
              "    }\n",
              "    30% {\n",
              "      border-color: transparent;\n",
              "      border-left-color: var(--fill-color);\n",
              "      border-top-color: var(--fill-color);\n",
              "      border-right-color: var(--fill-color);\n",
              "    }\n",
              "    40% {\n",
              "      border-color: transparent;\n",
              "      border-right-color: var(--fill-color);\n",
              "      border-top-color: var(--fill-color);\n",
              "    }\n",
              "    60% {\n",
              "      border-color: transparent;\n",
              "      border-right-color: var(--fill-color);\n",
              "    }\n",
              "    80% {\n",
              "      border-color: transparent;\n",
              "      border-right-color: var(--fill-color);\n",
              "      border-bottom-color: var(--fill-color);\n",
              "    }\n",
              "    90% {\n",
              "      border-color: transparent;\n",
              "      border-bottom-color: var(--fill-color);\n",
              "    }\n",
              "  }\n",
              "</style>\n",
              "\n",
              "  <script>\n",
              "    async function quickchart(key) {\n",
              "      const quickchartButtonEl =\n",
              "        document.querySelector('#' + key + ' button');\n",
              "      quickchartButtonEl.disabled = true;  // To prevent multiple clicks.\n",
              "      quickchartButtonEl.classList.add('colab-df-spinner');\n",
              "      try {\n",
              "        const charts = await google.colab.kernel.invokeFunction(\n",
              "            'suggestCharts', [key], {});\n",
              "      } catch (error) {\n",
              "        console.error('Error during call to suggestCharts:', error);\n",
              "      }\n",
              "      quickchartButtonEl.classList.remove('colab-df-spinner');\n",
              "      quickchartButtonEl.classList.add('colab-df-quickchart-complete');\n",
              "    }\n",
              "    (() => {\n",
              "      let quickchartButtonEl =\n",
              "        document.querySelector('#df-ed0eebc1-082b-40b7-b993-4b0b59af27eb button');\n",
              "      quickchartButtonEl.style.display =\n",
              "        google.colab.kernel.accessAllowed ? 'block' : 'none';\n",
              "    })();\n",
              "  </script>\n",
              "</div>\n",
              "\n",
              "  <div id=\"id_f8fa0a96-8eab-4faf-bde8-1058ef459622\">\n",
              "    <style>\n",
              "      .colab-df-generate {\n",
              "        background-color: #E8F0FE;\n",
              "        border: none;\n",
              "        border-radius: 50%;\n",
              "        cursor: pointer;\n",
              "        display: none;\n",
              "        fill: #1967D2;\n",
              "        height: 32px;\n",
              "        padding: 0 0 0 0;\n",
              "        width: 32px;\n",
              "      }\n",
              "\n",
              "      .colab-df-generate:hover {\n",
              "        background-color: #E2EBFA;\n",
              "        box-shadow: 0px 1px 2px rgba(60, 64, 67, 0.3), 0px 1px 3px 1px rgba(60, 64, 67, 0.15);\n",
              "        fill: #174EA6;\n",
              "      }\n",
              "\n",
              "      [theme=dark] .colab-df-generate {\n",
              "        background-color: #3B4455;\n",
              "        fill: #D2E3FC;\n",
              "      }\n",
              "\n",
              "      [theme=dark] .colab-df-generate:hover {\n",
              "        background-color: #434B5C;\n",
              "        box-shadow: 0px 1px 3px 1px rgba(0, 0, 0, 0.15);\n",
              "        filter: drop-shadow(0px 1px 2px rgba(0, 0, 0, 0.3));\n",
              "        fill: #FFFFFF;\n",
              "      }\n",
              "    </style>\n",
              "    <button class=\"colab-df-generate\" onclick=\"generateWithVariable('df1')\"\n",
              "            title=\"Generate code using this dataframe.\"\n",
              "            style=\"display:none;\">\n",
              "\n",
              "  <svg xmlns=\"http://www.w3.org/2000/svg\" height=\"24px\"viewBox=\"0 0 24 24\"\n",
              "       width=\"24px\">\n",
              "    <path d=\"M7,19H8.4L18.45,9,17,7.55,7,17.6ZM5,21V16.75L18.45,3.32a2,2,0,0,1,2.83,0l1.4,1.43a1.91,1.91,0,0,1,.58,1.4,1.91,1.91,0,0,1-.58,1.4L9.25,21ZM18.45,9,17,7.55Zm-12,3A5.31,5.31,0,0,0,4.9,8.1,5.31,5.31,0,0,0,1,6.5,5.31,5.31,0,0,0,4.9,4.9,5.31,5.31,0,0,0,6.5,1,5.31,5.31,0,0,0,8.1,4.9,5.31,5.31,0,0,0,12,6.5,5.46,5.46,0,0,0,6.5,12Z\"/>\n",
              "  </svg>\n",
              "    </button>\n",
              "    <script>\n",
              "      (() => {\n",
              "      const buttonEl =\n",
              "        document.querySelector('#id_f8fa0a96-8eab-4faf-bde8-1058ef459622 button.colab-df-generate');\n",
              "      buttonEl.style.display =\n",
              "        google.colab.kernel.accessAllowed ? 'block' : 'none';\n",
              "\n",
              "      buttonEl.onclick = () => {\n",
              "        google.colab.notebook.generateWithVariable('df1');\n",
              "      }\n",
              "      })();\n",
              "    </script>\n",
              "  </div>\n",
              "\n",
              "    </div>\n",
              "  </div>\n"
            ],
            "application/vnd.google.colaboratory.intrinsic+json": {
              "type": "dataframe",
              "variable_name": "df1",
              "summary": "{\n  \"name\": \"df1\",\n  \"rows\": 100,\n  \"fields\": [\n    {\n      \"column\": \"empid\",\n      \"properties\": {\n        \"dtype\": \"number\",\n        \"std\": 29,\n        \"min\": 101,\n        \"max\": 200,\n        \"num_unique_values\": 100,\n        \"samples\": [\n          184,\n          154,\n          171\n        ],\n        \"semantic_type\": \"\",\n        \"description\": \"\"\n      }\n    },\n    {\n      \"column\": \"empname\",\n      \"properties\": {\n        \"dtype\": \"string\",\n        \"num_unique_values\": 100,\n        \"samples\": [\n          \"Employee_184\",\n          \"Employee_154\",\n          \"Employee_171\"\n        ],\n        \"semantic_type\": \"\",\n        \"description\": \"\"\n      }\n    },\n    {\n      \"column\": \"depid\",\n      \"properties\": {\n        \"dtype\": \"number\",\n        \"std\": 1,\n        \"min\": 1,\n        \"max\": 4,\n        \"num_unique_values\": 4,\n        \"samples\": [\n          3,\n          4,\n          1\n        ],\n        \"semantic_type\": \"\",\n        \"description\": \"\"\n      }\n    },\n    {\n      \"column\": \"depname\",\n      \"properties\": {\n        \"dtype\": \"category\",\n        \"num_unique_values\": 4,\n        \"samples\": [\n          \"IT\",\n          \"Finance\",\n          \"Marketing\"\n        ],\n        \"semantic_type\": \"\",\n        \"description\": \"\"\n      }\n    },\n    {\n      \"column\": \"salary\",\n      \"properties\": {\n        \"dtype\": \"number\",\n        \"std\": 20310,\n        \"min\": 50282,\n        \"max\": 119615,\n        \"num_unique_values\": 99,\n        \"samples\": [\n          59602,\n          102923,\n          86265\n        ],\n        \"semantic_type\": \"\",\n        \"description\": \"\"\n      }\n    },\n    {\n      \"column\": \"age\",\n      \"properties\": {\n        \"dtype\": \"number\",\n        \"std\": 10,\n        \"min\": 22,\n        \"max\": 60,\n        \"num_unique_values\": 35,\n        \"samples\": [\n          36,\n          59,\n          46\n        ],\n        \"semantic_type\": \"\",\n        \"description\": \"\"\n      }\n    },\n    {\n      \"column\": \"country\",\n      \"properties\": {\n        \"dtype\": \"category\",\n        \"num_unique_values\": 4,\n        \"samples\": [\n          \"UK\",\n          \"USA\",\n          \"India\"\n        ],\n        \"semantic_type\": \"\",\n        \"description\": \"\"\n      }\n    },\n    {\n      \"column\": \"city\",\n      \"properties\": {\n        \"dtype\": \"category\",\n        \"num_unique_values\": 6,\n        \"samples\": [\n          \"Mumbai\",\n          \"Chicago\",\n          \"New York\"\n        ],\n        \"semantic_type\": \"\",\n        \"description\": \"\"\n      }\n    },\n    {\n      \"column\": \"state\",\n      \"properties\": {\n        \"dtype\": \"category\",\n        \"num_unique_values\": 6,\n        \"samples\": [\n          \"ON\",\n          \"NY\",\n          \"BC\"\n        ],\n        \"semantic_type\": \"\",\n        \"description\": \"\"\n      }\n    },\n    {\n      \"column\": \"manager_name\",\n      \"properties\": {\n        \"dtype\": \"category\",\n        \"num_unique_values\": 4,\n        \"samples\": [\n          \"John Black\",\n          \"Emily White\",\n          \"Laura Green\"\n        ],\n        \"semantic_type\": \"\",\n        \"description\": \"\"\n      }\n    },\n    {\n      \"column\": \"manager_ID\",\n      \"properties\": {\n        \"dtype\": \"number\",\n        \"std\": 2,\n        \"min\": 201,\n        \"max\": 210,\n        \"num_unique_values\": 10,\n        \"samples\": [\n          204,\n          208,\n          210\n        ],\n        \"semantic_type\": \"\",\n        \"description\": \"\"\n      }\n    }\n  ]\n}"
            }
          },
          "metadata": {},
          "execution_count": 6
        }
      ]
    },
    {
      "cell_type": "code",
      "source": [
        "import  pandas as pd\n",
        "df_s=df1.rename(columns={'empname':'Employee Name', 'manger_name':'Manager Name'})\n",
        "print(df_s)\n"
      ],
      "metadata": {
        "id": "b5ajUfSMAwZM",
        "outputId": "c0f4d97c-9b79-4c7a-f886-d5284ee1f795",
        "colab": {
          "base_uri": "https://localhost:8080/"
        }
      },
      "execution_count": null,
      "outputs": [
        {
          "output_type": "stream",
          "name": "stdout",
          "text": [
            "    empid Employee Name  depid    depname  salary  age country       city  \\\n",
            "31    132  Employee_132      1         HR  119615   37  Canada   New York   \n",
            "75    176  Employee_176      2         HR  119329   44      UK  Vancouver   \n",
            "46    147  Employee_147      3  Marketing  118522   36     USA     London   \n",
            "34    135  Employee_135      3         HR  116562   48  Canada    Toronto   \n",
            "64    165  Employee_165      4    Finance  116307   43      UK   New York   \n",
            "..    ...           ...    ...        ...     ...  ...     ...        ...   \n",
            "1     102  Employee_102      1  Marketing   51934   38      UK     Mumbai   \n",
            "59    160  Employee_160      1    Finance   51220   39   India  Vancouver   \n",
            "76    177  Employee_177      3  Marketing   51025   42      UK     London   \n",
            "98    199  Employee_199      1  Marketing   50464   54      UK  Vancouver   \n",
            "13    114  Employee_114      2         IT   50282   45      UK   New York   \n",
            "\n",
            "   state   manager_name  manager_ID  \n",
            "31    MA     John Black         210  \n",
            "75    BC     John Black         208  \n",
            "46    BC     John Black         207  \n",
            "34    MA    Laura Green         202  \n",
            "64    MA    Emily White         206  \n",
            "..   ...            ...         ...  \n",
            "1     NY    Laura Green         208  \n",
            "59    ON     John Black         208  \n",
            "76    MA     John Black         202  \n",
            "98    IL    Laura Green         208  \n",
            "13    IL  Michael Scott         206  \n",
            "\n",
            "[100 rows x 11 columns]\n"
          ]
        }
      ]
    },
    {
      "cell_type": "code",
      "source": [
        "df1[['empname', 'salary']]\n"
      ],
      "metadata": {
        "id": "kREwGsD3Etwy",
        "outputId": "369a8d0f-d8eb-497c-bf43-62df51f6c750",
        "colab": {
          "base_uri": "https://localhost:8080/",
          "height": 424
        }
      },
      "execution_count": null,
      "outputs": [
        {
          "output_type": "execute_result",
          "data": {
            "text/plain": [
              "         empname  salary\n",
              "0   Employee_101   56630\n",
              "1   Employee_102   51934\n",
              "2   Employee_103   62224\n",
              "3   Employee_104   80982\n",
              "4   Employee_105   71798\n",
              "..           ...     ...\n",
              "95  Employee_196  105518\n",
              "96  Employee_197   86265\n",
              "97  Employee_198   55778\n",
              "98  Employee_199   50464\n",
              "99  Employee_200   93719\n",
              "\n",
              "[100 rows x 2 columns]"
            ],
            "text/html": [
              "\n",
              "  <div id=\"df-089bbded-43ef-4951-a2d6-3cd714f4e2e5\" class=\"colab-df-container\">\n",
              "    <div>\n",
              "<style scoped>\n",
              "    .dataframe tbody tr th:only-of-type {\n",
              "        vertical-align: middle;\n",
              "    }\n",
              "\n",
              "    .dataframe tbody tr th {\n",
              "        vertical-align: top;\n",
              "    }\n",
              "\n",
              "    .dataframe thead th {\n",
              "        text-align: right;\n",
              "    }\n",
              "</style>\n",
              "<table border=\"1\" class=\"dataframe\">\n",
              "  <thead>\n",
              "    <tr style=\"text-align: right;\">\n",
              "      <th></th>\n",
              "      <th>empname</th>\n",
              "      <th>salary</th>\n",
              "    </tr>\n",
              "  </thead>\n",
              "  <tbody>\n",
              "    <tr>\n",
              "      <th>0</th>\n",
              "      <td>Employee_101</td>\n",
              "      <td>56630</td>\n",
              "    </tr>\n",
              "    <tr>\n",
              "      <th>1</th>\n",
              "      <td>Employee_102</td>\n",
              "      <td>51934</td>\n",
              "    </tr>\n",
              "    <tr>\n",
              "      <th>2</th>\n",
              "      <td>Employee_103</td>\n",
              "      <td>62224</td>\n",
              "    </tr>\n",
              "    <tr>\n",
              "      <th>3</th>\n",
              "      <td>Employee_104</td>\n",
              "      <td>80982</td>\n",
              "    </tr>\n",
              "    <tr>\n",
              "      <th>4</th>\n",
              "      <td>Employee_105</td>\n",
              "      <td>71798</td>\n",
              "    </tr>\n",
              "    <tr>\n",
              "      <th>...</th>\n",
              "      <td>...</td>\n",
              "      <td>...</td>\n",
              "    </tr>\n",
              "    <tr>\n",
              "      <th>95</th>\n",
              "      <td>Employee_196</td>\n",
              "      <td>105518</td>\n",
              "    </tr>\n",
              "    <tr>\n",
              "      <th>96</th>\n",
              "      <td>Employee_197</td>\n",
              "      <td>86265</td>\n",
              "    </tr>\n",
              "    <tr>\n",
              "      <th>97</th>\n",
              "      <td>Employee_198</td>\n",
              "      <td>55778</td>\n",
              "    </tr>\n",
              "    <tr>\n",
              "      <th>98</th>\n",
              "      <td>Employee_199</td>\n",
              "      <td>50464</td>\n",
              "    </tr>\n",
              "    <tr>\n",
              "      <th>99</th>\n",
              "      <td>Employee_200</td>\n",
              "      <td>93719</td>\n",
              "    </tr>\n",
              "  </tbody>\n",
              "</table>\n",
              "<p>100 rows × 2 columns</p>\n",
              "</div>\n",
              "    <div class=\"colab-df-buttons\">\n",
              "\n",
              "  <div class=\"colab-df-container\">\n",
              "    <button class=\"colab-df-convert\" onclick=\"convertToInteractive('df-089bbded-43ef-4951-a2d6-3cd714f4e2e5')\"\n",
              "            title=\"Convert this dataframe to an interactive table.\"\n",
              "            style=\"display:none;\">\n",
              "\n",
              "  <svg xmlns=\"http://www.w3.org/2000/svg\" height=\"24px\" viewBox=\"0 -960 960 960\">\n",
              "    <path d=\"M120-120v-720h720v720H120Zm60-500h600v-160H180v160Zm220 220h160v-160H400v160Zm0 220h160v-160H400v160ZM180-400h160v-160H180v160Zm440 0h160v-160H620v160ZM180-180h160v-160H180v160Zm440 0h160v-160H620v160Z\"/>\n",
              "  </svg>\n",
              "    </button>\n",
              "\n",
              "  <style>\n",
              "    .colab-df-container {\n",
              "      display:flex;\n",
              "      gap: 12px;\n",
              "    }\n",
              "\n",
              "    .colab-df-convert {\n",
              "      background-color: #E8F0FE;\n",
              "      border: none;\n",
              "      border-radius: 50%;\n",
              "      cursor: pointer;\n",
              "      display: none;\n",
              "      fill: #1967D2;\n",
              "      height: 32px;\n",
              "      padding: 0 0 0 0;\n",
              "      width: 32px;\n",
              "    }\n",
              "\n",
              "    .colab-df-convert:hover {\n",
              "      background-color: #E2EBFA;\n",
              "      box-shadow: 0px 1px 2px rgba(60, 64, 67, 0.3), 0px 1px 3px 1px rgba(60, 64, 67, 0.15);\n",
              "      fill: #174EA6;\n",
              "    }\n",
              "\n",
              "    .colab-df-buttons div {\n",
              "      margin-bottom: 4px;\n",
              "    }\n",
              "\n",
              "    [theme=dark] .colab-df-convert {\n",
              "      background-color: #3B4455;\n",
              "      fill: #D2E3FC;\n",
              "    }\n",
              "\n",
              "    [theme=dark] .colab-df-convert:hover {\n",
              "      background-color: #434B5C;\n",
              "      box-shadow: 0px 1px 3px 1px rgba(0, 0, 0, 0.15);\n",
              "      filter: drop-shadow(0px 1px 2px rgba(0, 0, 0, 0.3));\n",
              "      fill: #FFFFFF;\n",
              "    }\n",
              "  </style>\n",
              "\n",
              "    <script>\n",
              "      const buttonEl =\n",
              "        document.querySelector('#df-089bbded-43ef-4951-a2d6-3cd714f4e2e5 button.colab-df-convert');\n",
              "      buttonEl.style.display =\n",
              "        google.colab.kernel.accessAllowed ? 'block' : 'none';\n",
              "\n",
              "      async function convertToInteractive(key) {\n",
              "        const element = document.querySelector('#df-089bbded-43ef-4951-a2d6-3cd714f4e2e5');\n",
              "        const dataTable =\n",
              "          await google.colab.kernel.invokeFunction('convertToInteractive',\n",
              "                                                    [key], {});\n",
              "        if (!dataTable) return;\n",
              "\n",
              "        const docLinkHtml = 'Like what you see? Visit the ' +\n",
              "          '<a target=\"_blank\" href=https://colab.research.google.com/notebooks/data_table.ipynb>data table notebook</a>'\n",
              "          + ' to learn more about interactive tables.';\n",
              "        element.innerHTML = '';\n",
              "        dataTable['output_type'] = 'display_data';\n",
              "        await google.colab.output.renderOutput(dataTable, element);\n",
              "        const docLink = document.createElement('div');\n",
              "        docLink.innerHTML = docLinkHtml;\n",
              "        element.appendChild(docLink);\n",
              "      }\n",
              "    </script>\n",
              "  </div>\n",
              "\n",
              "\n",
              "<div id=\"df-0b177915-0695-4d58-a6ee-274e9bf032f9\">\n",
              "  <button class=\"colab-df-quickchart\" onclick=\"quickchart('df-0b177915-0695-4d58-a6ee-274e9bf032f9')\"\n",
              "            title=\"Suggest charts\"\n",
              "            style=\"display:none;\">\n",
              "\n",
              "<svg xmlns=\"http://www.w3.org/2000/svg\" height=\"24px\"viewBox=\"0 0 24 24\"\n",
              "     width=\"24px\">\n",
              "    <g>\n",
              "        <path d=\"M19 3H5c-1.1 0-2 .9-2 2v14c0 1.1.9 2 2 2h14c1.1 0 2-.9 2-2V5c0-1.1-.9-2-2-2zM9 17H7v-7h2v7zm4 0h-2V7h2v10zm4 0h-2v-4h2v4z\"/>\n",
              "    </g>\n",
              "</svg>\n",
              "  </button>\n",
              "\n",
              "<style>\n",
              "  .colab-df-quickchart {\n",
              "      --bg-color: #E8F0FE;\n",
              "      --fill-color: #1967D2;\n",
              "      --hover-bg-color: #E2EBFA;\n",
              "      --hover-fill-color: #174EA6;\n",
              "      --disabled-fill-color: #AAA;\n",
              "      --disabled-bg-color: #DDD;\n",
              "  }\n",
              "\n",
              "  [theme=dark] .colab-df-quickchart {\n",
              "      --bg-color: #3B4455;\n",
              "      --fill-color: #D2E3FC;\n",
              "      --hover-bg-color: #434B5C;\n",
              "      --hover-fill-color: #FFFFFF;\n",
              "      --disabled-bg-color: #3B4455;\n",
              "      --disabled-fill-color: #666;\n",
              "  }\n",
              "\n",
              "  .colab-df-quickchart {\n",
              "    background-color: var(--bg-color);\n",
              "    border: none;\n",
              "    border-radius: 50%;\n",
              "    cursor: pointer;\n",
              "    display: none;\n",
              "    fill: var(--fill-color);\n",
              "    height: 32px;\n",
              "    padding: 0;\n",
              "    width: 32px;\n",
              "  }\n",
              "\n",
              "  .colab-df-quickchart:hover {\n",
              "    background-color: var(--hover-bg-color);\n",
              "    box-shadow: 0 1px 2px rgba(60, 64, 67, 0.3), 0 1px 3px 1px rgba(60, 64, 67, 0.15);\n",
              "    fill: var(--button-hover-fill-color);\n",
              "  }\n",
              "\n",
              "  .colab-df-quickchart-complete:disabled,\n",
              "  .colab-df-quickchart-complete:disabled:hover {\n",
              "    background-color: var(--disabled-bg-color);\n",
              "    fill: var(--disabled-fill-color);\n",
              "    box-shadow: none;\n",
              "  }\n",
              "\n",
              "  .colab-df-spinner {\n",
              "    border: 2px solid var(--fill-color);\n",
              "    border-color: transparent;\n",
              "    border-bottom-color: var(--fill-color);\n",
              "    animation:\n",
              "      spin 1s steps(1) infinite;\n",
              "  }\n",
              "\n",
              "  @keyframes spin {\n",
              "    0% {\n",
              "      border-color: transparent;\n",
              "      border-bottom-color: var(--fill-color);\n",
              "      border-left-color: var(--fill-color);\n",
              "    }\n",
              "    20% {\n",
              "      border-color: transparent;\n",
              "      border-left-color: var(--fill-color);\n",
              "      border-top-color: var(--fill-color);\n",
              "    }\n",
              "    30% {\n",
              "      border-color: transparent;\n",
              "      border-left-color: var(--fill-color);\n",
              "      border-top-color: var(--fill-color);\n",
              "      border-right-color: var(--fill-color);\n",
              "    }\n",
              "    40% {\n",
              "      border-color: transparent;\n",
              "      border-right-color: var(--fill-color);\n",
              "      border-top-color: var(--fill-color);\n",
              "    }\n",
              "    60% {\n",
              "      border-color: transparent;\n",
              "      border-right-color: var(--fill-color);\n",
              "    }\n",
              "    80% {\n",
              "      border-color: transparent;\n",
              "      border-right-color: var(--fill-color);\n",
              "      border-bottom-color: var(--fill-color);\n",
              "    }\n",
              "    90% {\n",
              "      border-color: transparent;\n",
              "      border-bottom-color: var(--fill-color);\n",
              "    }\n",
              "  }\n",
              "</style>\n",
              "\n",
              "  <script>\n",
              "    async function quickchart(key) {\n",
              "      const quickchartButtonEl =\n",
              "        document.querySelector('#' + key + ' button');\n",
              "      quickchartButtonEl.disabled = true;  // To prevent multiple clicks.\n",
              "      quickchartButtonEl.classList.add('colab-df-spinner');\n",
              "      try {\n",
              "        const charts = await google.colab.kernel.invokeFunction(\n",
              "            'suggestCharts', [key], {});\n",
              "      } catch (error) {\n",
              "        console.error('Error during call to suggestCharts:', error);\n",
              "      }\n",
              "      quickchartButtonEl.classList.remove('colab-df-spinner');\n",
              "      quickchartButtonEl.classList.add('colab-df-quickchart-complete');\n",
              "    }\n",
              "    (() => {\n",
              "      let quickchartButtonEl =\n",
              "        document.querySelector('#df-0b177915-0695-4d58-a6ee-274e9bf032f9 button');\n",
              "      quickchartButtonEl.style.display =\n",
              "        google.colab.kernel.accessAllowed ? 'block' : 'none';\n",
              "    })();\n",
              "  </script>\n",
              "</div>\n",
              "\n",
              "    </div>\n",
              "  </div>\n"
            ],
            "application/vnd.google.colaboratory.intrinsic+json": {
              "type": "dataframe",
              "summary": "{\n  \"name\": \"df1[['empname', 'salary']]\",\n  \"rows\": 100,\n  \"fields\": [\n    {\n      \"column\": \"empname\",\n      \"properties\": {\n        \"dtype\": \"string\",\n        \"num_unique_values\": 100,\n        \"samples\": [\n          \"Employee_184\",\n          \"Employee_154\",\n          \"Employee_171\"\n        ],\n        \"semantic_type\": \"\",\n        \"description\": \"\"\n      }\n    },\n    {\n      \"column\": \"salary\",\n      \"properties\": {\n        \"dtype\": \"number\",\n        \"std\": 20310,\n        \"min\": 50282,\n        \"max\": 119615,\n        \"num_unique_values\": 99,\n        \"samples\": [\n          59602,\n          102923,\n          86265\n        ],\n        \"semantic_type\": \"\",\n        \"description\": \"\"\n      }\n    }\n  ]\n}"
            }
          },
          "metadata": {},
          "execution_count": 32
        }
      ]
    },
    {
      "cell_type": "code",
      "source": [
        "df1.columns"
      ],
      "metadata": {
        "id": "O_C1SnAXNHy-",
        "outputId": "75ed06b3-f764-47f4-8e24-cfb45020d3b9",
        "colab": {
          "base_uri": "https://localhost:8080/"
        }
      },
      "execution_count": null,
      "outputs": [
        {
          "output_type": "execute_result",
          "data": {
            "text/plain": [
              "Index(['empid', 'empname', 'depid', 'depname', 'salary', 'age', 'country',\n",
              "       'city', 'state', 'manager_name', 'manager_ID'],\n",
              "      dtype='object')"
            ]
          },
          "metadata": {},
          "execution_count": 61
        }
      ]
    },
    {
      "cell_type": "code",
      "source": [
        "result = df1[['empname','salary']].sort_values(by='salary', ascending=False)\n",
        "\n",
        "print(result)"
      ],
      "metadata": {
        "id": "zXAAcBbTJDCz",
        "outputId": "410be333-26d2-406a-c5ed-66b6a968a00e",
        "colab": {
          "base_uri": "https://localhost:8080/"
        }
      },
      "execution_count": null,
      "outputs": [
        {
          "output_type": "stream",
          "name": "stdout",
          "text": [
            "         empname  salary\n",
            "31  Employee_132  119615\n",
            "75  Employee_176  119329\n",
            "46  Employee_147  118522\n",
            "34  Employee_135  116562\n",
            "64  Employee_165  116307\n",
            "..           ...     ...\n",
            "1   Employee_102   51934\n",
            "59  Employee_160   51220\n",
            "76  Employee_177   51025\n",
            "98  Employee_199   50464\n",
            "13  Employee_114   50282\n",
            "\n",
            "[100 rows x 2 columns]\n"
          ]
        }
      ]
    },
    {
      "cell_type": "code",
      "source": [
        "df1 = df1.sort_values(by='salary', ascending=False)\n",
        "df1['empname'].head(2)"
      ],
      "metadata": {
        "id": "noHpRsfXKlod",
        "outputId": "b73e318f-7521-44c3-d901-c933146f8589",
        "colab": {
          "base_uri": "https://localhost:8080/",
          "height": 147
        }
      },
      "execution_count": null,
      "outputs": [
        {
          "output_type": "execute_result",
          "data": {
            "text/plain": [
              "31    Employee_132\n",
              "75    Employee_176\n",
              "Name: empname, dtype: object"
            ],
            "text/html": [
              "<div>\n",
              "<style scoped>\n",
              "    .dataframe tbody tr th:only-of-type {\n",
              "        vertical-align: middle;\n",
              "    }\n",
              "\n",
              "    .dataframe tbody tr th {\n",
              "        vertical-align: top;\n",
              "    }\n",
              "\n",
              "    .dataframe thead th {\n",
              "        text-align: right;\n",
              "    }\n",
              "</style>\n",
              "<table border=\"1\" class=\"dataframe\">\n",
              "  <thead>\n",
              "    <tr style=\"text-align: right;\">\n",
              "      <th></th>\n",
              "      <th>empname</th>\n",
              "    </tr>\n",
              "  </thead>\n",
              "  <tbody>\n",
              "    <tr>\n",
              "      <th>31</th>\n",
              "      <td>Employee_132</td>\n",
              "    </tr>\n",
              "    <tr>\n",
              "      <th>75</th>\n",
              "      <td>Employee_176</td>\n",
              "    </tr>\n",
              "  </tbody>\n",
              "</table>\n",
              "</div><br><label><b>dtype:</b> object</label>"
            ]
          },
          "metadata": {},
          "execution_count": 45
        }
      ]
    },
    {
      "cell_type": "code",
      "source": [
        "df1.groupby('country')['salary'].sum()"
      ],
      "metadata": {
        "id": "R5FQai44b1hT",
        "outputId": "be602e35-3935-43a3-f95f-52db2667a185",
        "colab": {
          "base_uri": "https://localhost:8080/",
          "height": 241
        }
      },
      "execution_count": null,
      "outputs": [
        {
          "output_type": "execute_result",
          "data": {
            "text/plain": [
              "country\n",
              "Canada    2345964\n",
              "India     2933400\n",
              "UK        1594232\n",
              "USA       1346703\n",
              "Name: salary, dtype: int64"
            ],
            "text/html": [
              "<div>\n",
              "<style scoped>\n",
              "    .dataframe tbody tr th:only-of-type {\n",
              "        vertical-align: middle;\n",
              "    }\n",
              "\n",
              "    .dataframe tbody tr th {\n",
              "        vertical-align: top;\n",
              "    }\n",
              "\n",
              "    .dataframe thead th {\n",
              "        text-align: right;\n",
              "    }\n",
              "</style>\n",
              "<table border=\"1\" class=\"dataframe\">\n",
              "  <thead>\n",
              "    <tr style=\"text-align: right;\">\n",
              "      <th></th>\n",
              "      <th>salary</th>\n",
              "    </tr>\n",
              "    <tr>\n",
              "      <th>country</th>\n",
              "      <th></th>\n",
              "    </tr>\n",
              "  </thead>\n",
              "  <tbody>\n",
              "    <tr>\n",
              "      <th>Canada</th>\n",
              "      <td>2345964</td>\n",
              "    </tr>\n",
              "    <tr>\n",
              "      <th>India</th>\n",
              "      <td>2933400</td>\n",
              "    </tr>\n",
              "    <tr>\n",
              "      <th>UK</th>\n",
              "      <td>1594232</td>\n",
              "    </tr>\n",
              "    <tr>\n",
              "      <th>USA</th>\n",
              "      <td>1346703</td>\n",
              "    </tr>\n",
              "  </tbody>\n",
              "</table>\n",
              "</div><br><label><b>dtype:</b> int64</label>"
            ]
          },
          "metadata": {},
          "execution_count": 69
        }
      ]
    },
    {
      "cell_type": "code",
      "source": [
        "df6=df1[(df1['country']=='USA') & (df1['state']=='NY')].groupby('depid')['salary'].sum().sort_values(ascending=True)\n",
        "print(df6)"
      ],
      "metadata": {
        "id": "2Qm5X5kDb6NL",
        "outputId": "e440bcd0-b698-4ab8-b2f6-5de6ebdb9b74",
        "colab": {
          "base_uri": "https://localhost:8080/"
        }
      },
      "execution_count": null,
      "outputs": [
        {
          "output_type": "stream",
          "name": "stdout",
          "text": [
            "depid\n",
            "2    85697\n",
            "3    87353\n",
            "Name: salary, dtype: int64\n"
          ]
        }
      ]
    },
    {
      "cell_type": "code",
      "source": [
        "def greatest(arr):\n",
        "    max=arr[0]\n",
        "    for i in arr:\n",
        "        if i>max:\n",
        "            max=i\n",
        "            return max\n",
        "arr=[1,2,3]\n",
        "print(greatest(arr))"
      ],
      "metadata": {
        "colab": {
          "base_uri": "https://localhost:8080/"
        },
        "id": "61ENBZa9UpTz",
        "outputId": "131bdb10-3da9-4924-828d-1f0f82facea0"
      },
      "execution_count": null,
      "outputs": [
        {
          "output_type": "stream",
          "name": "stdout",
          "text": [
            "2\n"
          ]
        }
      ]
    },
    {
      "cell_type": "code",
      "source": [
        "def arrange(arr):\n",
        "  return sorted(arr, reverse=True)\n",
        "arr=[98,2,34]\n",
        "print(arrange(arr))"
      ],
      "metadata": {
        "colab": {
          "base_uri": "https://localhost:8080/"
        },
        "id": "nItKKZ9p1Kkl",
        "outputId": "4ea33a8c-7bbb-4bf5-a556-fbcba08c19c8"
      },
      "execution_count": null,
      "outputs": [
        {
          "output_type": "stream",
          "name": "stdout",
          "text": [
            "[98, 34, 2]\n"
          ]
        }
      ]
    },
    {
      "cell_type": "code",
      "source": [
        "def arr2(arr):\n",
        "  first=second=0\n",
        "  for i in arr:\n",
        "    if i>first:\n",
        "      first=i\n",
        "    elif i>second:\n",
        "      second=i\n",
        "  return first,second\n",
        "arr=[18,25,3]\n",
        "print(arr2(arr))"
      ],
      "metadata": {
        "colab": {
          "base_uri": "https://localhost:8080/"
        },
        "id": "_d_Mck9p2uEj",
        "outputId": "eca3ee66-b1cf-4f71-9d22-ff166543314f"
      },
      "execution_count": null,
      "outputs": [
        {
          "output_type": "stream",
          "name": "stdout",
          "text": [
            "(25, 3)\n"
          ]
        }
      ]
    },
    {
      "cell_type": "code",
      "source": [
        "##dynamically passing values to a function\n",
        "def config_server(host,port,user,password):\n",
        "  print(f\"server running on : {host},{port}\")\n",
        "\n",
        "server_config={\n",
        "     'host': '127.0.0.1',\n",
        "    'port': 8080,\n",
        "     'user': 'admin',\n",
        "     'password': 'admin'\n",
        "}\n",
        "config_server(**server_config)\n",
        "#"
      ],
      "metadata": {
        "colab": {
          "base_uri": "https://localhost:8080/"
        },
        "id": "gkY7mKQ6BZ2b",
        "outputId": "79a3b9e9-5124-4a3a-f006-65d3c8d52197"
      },
      "execution_count": null,
      "outputs": [
        {
          "output_type": "stream",
          "name": "stdout",
          "text": [
            "server running on : 127.0.0.1,8080\n"
          ]
        }
      ]
    },
    {
      "cell_type": "code",
      "source": [
        "numbers=[8,25,90,56]\n",
        "##Filter as the name suggests helps to filter your list using filter conditions.\n",
        "mult5=list(filter(lambda x: x%5==0, numbers))\n",
        "print(mult5)"
      ],
      "metadata": {
        "colab": {
          "base_uri": "https://localhost:8080/"
        },
        "id": "nHaqP0giDpAV",
        "outputId": "d57628ef-f883-4338-e867-9e2c63a64b0a"
      },
      "execution_count": null,
      "outputs": [
        {
          "output_type": "stream",
          "name": "stdout",
          "text": [
            "[25, 90]\n"
          ]
        }
      ]
    },
    {
      "cell_type": "code",
      "source": [
        "##The Map function allows us to use a function on a list of elements.\n",
        "numbers=[87,56,44,24]\n",
        "def pov(val: int):\n",
        "  return val**2\n",
        "print(list(map(pov, numbers)))"
      ],
      "metadata": {
        "colab": {
          "base_uri": "https://localhost:8080/"
        },
        "id": "2zPvd-6HFlWM",
        "outputId": "aea51f2e-41e9-4f81-8118-91c2ff115ae4"
      },
      "execution_count": null,
      "outputs": [
        {
          "output_type": "stream",
          "name": "stdout",
          "text": [
            "[7569, 3136, 1936, 576]\n"
          ]
        }
      ]
    },
    {
      "cell_type": "code",
      "source": [
        "##The reduce() function is a powerful tool in Python that operates on a list (or any iterable), applies a function to its elements, and ‘reduces’ them to a single output.\n",
        "from functools import reduce\n",
        "words=['apple', 'banana', 'cherry', 'date','cherry','apple']\n",
        "print(reduce(lambda counts, word: {**counts, word: counts.get(word, 0) + 1}, words, {}))\n"
      ],
      "metadata": {
        "colab": {
          "base_uri": "https://localhost:8080/"
        },
        "id": "LB8Wn-_EGlEp",
        "outputId": "7d4f7fa7-e407-4856-ece7-fd29c2f063eb"
      },
      "execution_count": null,
      "outputs": [
        {
          "output_type": "stream",
          "name": "stdout",
          "text": [
            "{'apple': 2, 'banana': 1, 'cherry': 2, 'date': 1}\n"
          ]
        }
      ]
    },
    {
      "cell_type": "code",
      "source": [
        "list = ['a','b','c','d','e']\n",
        "count = 0\n",
        "for l in list:\n",
        "    print('Index:', count,' Value:', l)\n",
        "    count+=1\n",
        "##Use Enumerate to achieve the same result:\n",
        "list = ['a','b','c','d','e']\n",
        "for count, l in enumerate(list):\n",
        "    print('Index:', count,' Value:', l)"
      ],
      "metadata": {
        "colab": {
          "base_uri": "https://localhost:8080/"
        },
        "id": "gXpxGvmpMid0",
        "outputId": "f874c2e8-7512-4323-f03a-a3940efe7bd6"
      },
      "execution_count": null,
      "outputs": [
        {
          "output_type": "stream",
          "name": "stdout",
          "text": [
            "Index: 0  Value: a\n",
            "Index: 1  Value: b\n",
            "Index: 2  Value: c\n",
            "Index: 3  Value: d\n",
            "Index: 4  Value: e\n",
            "Index: 0  Value: a\n",
            "Index: 1  Value: b\n",
            "Index: 2  Value: c\n",
            "Index: 3  Value: d\n",
            "Index: 4  Value: e\n"
          ]
        }
      ]
    },
    {
      "cell_type": "code",
      "source": [
        "from collections import Counter\n",
        "\n",
        "words = ['apple', 'banana', 'cherry', 'date', 'cherry', 'apple']\n",
        "word_counts = Counter(words)\n",
        "\n",
        "print(word_counts)\n"
      ],
      "metadata": {
        "colab": {
          "base_uri": "https://localhost:8080/"
        },
        "id": "55SzbUr3OqLD",
        "outputId": "8c514ba1-41b4-40c6-8bc3-381d752ed3d8"
      },
      "execution_count": null,
      "outputs": [
        {
          "output_type": "stream",
          "name": "stdout",
          "text": [
            "Counter({'apple': 2, 'cherry': 2, 'banana': 1, 'date': 1})\n"
          ]
        }
      ]
    },
    {
      "cell_type": "code",
      "source": [
        "import pandas as pd\n",
        "\n",
        "words = ['apple', 'banana', 'cherry', 'date', 'cherry', 'apple']\n",
        "word_counts = pd.Series(words).value_counts()\n",
        "\n",
        "print(word_counts)\n"
      ],
      "metadata": {
        "colab": {
          "base_uri": "https://localhost:8080/"
        },
        "id": "xmkVNDWIOv3p",
        "outputId": "3c3b9c1c-2f7d-4e41-b483-ee393d059183"
      },
      "execution_count": null,
      "outputs": [
        {
          "output_type": "stream",
          "name": "stdout",
          "text": [
            "apple     2\n",
            "cherry    2\n",
            "banana    1\n",
            "date      1\n",
            "Name: count, dtype: int64\n"
          ]
        }
      ]
    },
    {
      "cell_type": "code",
      "source": [
        "#Multithreading is a way to achieve parallelism by executing multiple threads of code. A thread is a lightweight process that shares the same memory space as the parent process\n",
        "import calendar\n",
        "from concurrent.futures import ThreadPoolExecutor\n",
        "import requests\n",
        "\n",
        "def generate_dates(year, month):\n",
        "    _, last_day = calendar.monthrange(year, month)\n",
        "\n",
        "    dates = [f\"{year}-{month:02d}-{day:02d}\" for day in range(1, last_day + 1)]\n",
        "    return dates\n",
        "\n",
        "year = 2023\n",
        "month = 10\n",
        "result = generate_dates(year, month)\n",
        "urls = []\n",
        "for x in result:\n",
        "    urls.append(f\"http://api.nbp.pl/api/exchangerates/rates/a/gbp/{x}/\")\n",
        "\n",
        "def download_page(url):\n",
        "    response = requests.get(url)\n",
        "    return response.content\n",
        "\n",
        "with ThreadPoolExecutor(max_workers=5) as executor:\n",
        "    results = list(executor.map(download_page, urls))\n",
        "\n",
        "for result in results:\n",
        "    print(result)"
      ],
      "metadata": {
        "id": "nkl6W0lvJhhX"
      },
      "execution_count": null,
      "outputs": []
    },
    {
      "cell_type": "code",
      "source": [
        "##Multiprocessing is a technique used to achieve parallelism by running multiple processes simultaneously. A process is an independent instance of a running program that possesses its own memory space\n",
        "from multiprocessing import Pool\n",
        "import time\n",
        "\n",
        "def square(x):\n",
        "    time.sleep(1)\n",
        "    print(x)\n",
        "    return x * 2\n",
        "\n",
        "\n",
        "numbers = [1, 2, 3, 4, 5]\n",
        "\n",
        "if __name__ == '__main__':\n",
        "    with Pool(processes=2) as pool:\n",
        "        results = pool.map(square, numbers)\n",
        "    print(results)"
      ],
      "metadata": {
        "id": "9vI2NbIcKB9w"
      },
      "execution_count": null,
      "outputs": []
    },
    {
      "cell_type": "code",
      "source": [
        "##adlfs- Azure Account storage integration\n",
        "import adlfs\n",
        "\n",
        "\n",
        "fs = adlfs.AzureBlobFileSystem(account_name=os.environ[\"AZURE_STORAGE_ACCOUNT_NAME\"])\n",
        "local_filename = \"landing/clients.csv\"\n",
        "\n",
        "with fs.open(local_filename, \"wb\") as f:\n",
        "  f.write(\"hello;csv;file\")\n"
      ],
      "metadata": {
        "id": "eSbmjl58Katv"
      },
      "execution_count": null,
      "outputs": []
    },
    {
      "cell_type": "code",
      "source": [
        "##s3fs- AWS S3 storage integration\n",
        "import s3fs\n",
        "\n",
        "fs = s3fs.S3FileSystem(key=mykey, secret=mysecretkey)\n",
        "bucket = \"my-bucket\"\n",
        "\n",
        "\n",
        "files = fs.ls(bucket)\n",
        "\n",
        "with s3.open('my-bucket/my-file.txt', 'rb') as f:\n",
        "  print(f.read())"
      ],
      "metadata": {
        "id": "Wn9hkpEzKsl9"
      },
      "execution_count": null,
      "outputs": []
    },
    {
      "cell_type": "code",
      "source": [
        "##how Pandas can efficiently read large CSV files\n",
        "import pandas as pd\n",
        "\n",
        "chunksize = 10 ** 6\n",
        "for chunk in pd.read_csv(filename, chunksize=chunksize):\n",
        "    for index, row in chunk.iterrows():\n",
        "        print(row)"
      ],
      "metadata": {
        "id": "84Kh8rA4LRpe"
      },
      "execution_count": null,
      "outputs": []
    },
    {
      "cell_type": "code",
      "source": [
        "##SPARK efficiently perform processing tasks on massive datasets while also enabling the distribution of these tasks across multiple computers for enhanced scalability\n",
        "data = {'Name': ['Alice', 'Bob', 'Charlie', 'David'],\n",
        "        'Age': [25, 30, 35, 40],\n",
        "        'City': ['New York', 'San Francisco', 'Los Angeles', 'Chicago']}\n",
        "\n",
        "\n",
        "df = spark.createDataFrame(data)\n",
        "df.printSchema()"
      ],
      "metadata": {
        "id": "3DExMF9HLvUA"
      },
      "execution_count": null,
      "outputs": []
    },
    {
      "cell_type": "code",
      "source": [
        "## Polars is a high-performance DataFrame library implemented in Rust and distinguishes itself by prioritizing performance\n",
        "import polars as pl\n",
        "\n",
        "# Creating a DataFrame\n",
        "data = {'Name': ['Alice', 'Bob', 'Charlie', 'David'],\n",
        "        'Age': [25, 30, 35, 40],\n",
        "        'City': ['New York', 'San Francisco', 'Los Angeles', 'Chicago']}\n",
        "\n",
        "df = pl.DataFrame(data)\n",
        "# Filtering data\n",
        "filtered_df = df.filter(df['Age'] > 30)\n",
        "\n",
        "# Adding a new column\n",
        "df = df.with_columns(salary = pl.lit(100))\n",
        "\n",
        "# Grouping data and calculating statistics\n",
        "grouped_city = df.groupby('City').agg(pl.col('Age').mean().alias('Avg_Age'))"
      ],
      "metadata": {
        "id": "pCTSFXUqMG4R"
      },
      "execution_count": null,
      "outputs": []
    },
    {
      "cell_type": "code",
      "source": [
        "##connect to SQL Server\n",
        "from sqlalchemy import create_engine\n",
        "\n",
        "# Connection details\n",
        "server = \"your_server_name\"  # e.g., \"localhost\" or \"192.168.1.100\"\n",
        "database = \"your_database_name\"\n",
        "username = \"your_username\"\n",
        "password = \"your_password\"\n",
        "driver = \"ODBC Driver 17 for SQL Server\"  # Verify the driver installed on your system\n",
        "\n",
        "# Connection string\n",
        "connection_string = f\"mssql+pyodbc://{username}:{password}@{server}/{database}?driver={driver}\"\n",
        "\n",
        "# Create the SQLAlchemy engine\n",
        "engine = create_engine(connection_string)\n",
        "\n",
        "# Test the connection\n",
        "try:\n",
        "    with engine.connect() as connection:\n",
        "        print(\"Connection successful!\")\n",
        "except Exception as e:\n",
        "    print(\"Error connecting to the database:\", e)\n"
      ],
      "metadata": {
        "id": "NKOdqSTONpI1"
      },
      "execution_count": null,
      "outputs": []
    },
    {
      "cell_type": "code",
      "source": [
        "n1=input(\"enter first number\")\n",
        "n2=input(\"enter 2nd number\")\n",
        "n3=int(n1)+int(n2)\n",
        "print(\"sum of  {0}, {1} is {2}\".format(n1,n2,n3))"
      ],
      "metadata": {
        "colab": {
          "base_uri": "https://localhost:8080/"
        },
        "id": "slPX7SLlStzk",
        "outputId": "ef408ccb-308a-4455-b535-25b92e74ce48"
      },
      "execution_count": null,
      "outputs": [
        {
          "output_type": "stream",
          "name": "stdout",
          "text": [
            "enter first number3\n",
            "enter 2nd number4\n",
            "sum of  3, 4 is 7\n"
          ]
        }
      ]
    },
    {
      "cell_type": "code",
      "source": [
        "def biggest(a,b):\n",
        "  if a>b:\n",
        "    return a\n",
        "  else:\n",
        "    return b\n",
        "a=int(input(\"enter first number\"))\n",
        "b=int(input(\"enter 2nd number\"))\n",
        "print(\"biggest of  {0}, {1} is {2}\".format(a,b,biggest(a,b)))"
      ],
      "metadata": {
        "colab": {
          "base_uri": "https://localhost:8080/"
        },
        "id": "bgPhw6S9Tu28",
        "outputId": "bde1d910-2c8e-440c-cb72-ec60b358cdad"
      },
      "execution_count": null,
      "outputs": [
        {
          "output_type": "stream",
          "name": "stdout",
          "text": [
            "enter first number56\n",
            "enter 2nd number85\n",
            "biggest of  56, 85 is 85\n"
          ]
        }
      ]
    },
    {
      "cell_type": "code",
      "source": [
        "def fact(n):\n",
        "  if n==1:\n",
        "    return 1\n",
        "  else:\n",
        "    return n*fact(n-1)\n",
        "n=int(input(\"enter number\"))\n",
        "print(\"Factorial of {0} is {1}\".format(n,fact(n)))"
      ],
      "metadata": {
        "colab": {
          "base_uri": "https://localhost:8080/"
        },
        "id": "EpwcRXEIaM_R",
        "outputId": "396347c1-595a-4334-b490-664ff745b740"
      },
      "execution_count": null,
      "outputs": [
        {
          "output_type": "stream",
          "name": "stdout",
          "text": [
            "enter number7\n",
            "Factorial of 7 is 5040\n"
          ]
        }
      ]
    },
    {
      "cell_type": "code",
      "source": [
        "##area of circle is pi*r*r, pi=3-14\n",
        "def area(r):\n",
        "    from math import pi\n",
        "    return pi*r*r\n",
        "\n"
      ],
      "metadata": {
        "id": "DCz6g63km2OI"
      },
      "execution_count": null,
      "outputs": []
    },
    {
      "cell_type": "code",
      "source": [
        "r=int(input(\"enter radius\"))\n",
        "print(\"area of circle is {0}\".format(area(r)))\n"
      ],
      "metadata": {
        "colab": {
          "base_uri": "https://localhost:8080/"
        },
        "id": "Y_R6GM-CpytE",
        "outputId": "2ea9c559-155b-4345-b098-540357cbd0d8"
      },
      "execution_count": null,
      "outputs": [
        {
          "output_type": "stream",
          "name": "stdout",
          "text": [
            "enter radius5\n",
            "area of circle is 78.53981633974483\n"
          ]
        }
      ]
    },
    {
      "cell_type": "code",
      "source": [
        "def prime(x,y):\n",
        "   list_prime=[]\n",
        "   for i in range(x,y+1):\n",
        "     if i>1:\n",
        "       for j in range(2,i):\n",
        "         if i%j==0:\n",
        "           break\n",
        "       else:\n",
        "         list_prime.append(i)\n",
        "   return list_prime\n",
        "x=int(input(\"enter first number\"))\n",
        "y=int(input(\"enter 2nd number\"))\n",
        "print(\"prime numbers between {0} and {1} are {2}\".format(x,y,prime(x,y)))"
      ],
      "metadata": {
        "colab": {
          "base_uri": "https://localhost:8080/"
        },
        "id": "GXpy1vKfv39w",
        "outputId": "184e374f-3eae-4218-9070-d797c5e46182"
      },
      "execution_count": null,
      "outputs": [
        {
          "output_type": "stream",
          "name": "stdout",
          "text": [
            "enter first number5\n",
            "enter 2nd number67\n",
            "prime numbers between 5 and 67 are [5, 7, 11, 13, 17, 19, 23, 29, 31, 37, 41, 43, 47, 53, 59, 61, 67]\n"
          ]
        }
      ]
    },
    {
      "cell_type": "code",
      "source": [
        "def largest(arr):\n",
        "  max=arr[0]\n",
        "  for i in arr:\n",
        "    if i>max:\n",
        "      max=i\n",
        "  return max\n",
        "arr=[87,456,5678]\n",
        "print(largest(arr))"
      ],
      "metadata": {
        "colab": {
          "base_uri": "https://localhost:8080/"
        },
        "id": "ZoVm7uC3v3ow",
        "outputId": "d3b842f8-99d3-4afc-8151-00b8ba148b1a"
      },
      "execution_count": null,
      "outputs": [
        {
          "output_type": "stream",
          "name": "stdout",
          "text": [
            "5678\n"
          ]
        }
      ]
    },
    {
      "cell_type": "code",
      "source": [
        "def arrayRotation(arr1):\n",
        "  arr2=[]\n",
        "  n=len(arr1)-1\n",
        "  for i in range(n,-1,-1):\n",
        "    arr2.append(arr1[i])\n",
        "\n",
        "  return arr2\n",
        "arr1=[72,45,1056,567]\n",
        "print(arrayRotation(arr1))\n"
      ],
      "metadata": {
        "colab": {
          "base_uri": "https://localhost:8080/"
        },
        "id": "YJ0w5a482zfp",
        "outputId": "2b4aca78-bae7-4a9d-dc20-fb3cab53789c"
      },
      "execution_count": null,
      "outputs": [
        {
          "output_type": "stream",
          "name": "stdout",
          "text": [
            "[567, 1056, 45, 72]\n"
          ]
        }
      ]
    },
    {
      "cell_type": "code",
      "source": [],
      "metadata": {
        "id": "K18fgATuvFZO"
      },
      "execution_count": null,
      "outputs": []
    },
    {
      "cell_type": "code",
      "source": [
        "def splitArray(arr,k):\n",
        "  arr2=[]\n",
        "  arr3=[]\n",
        "  for i in range(0,k):\n",
        "    arr2.append(arr[i])\n",
        "  for j in range(k,len(arr)):\n",
        "    arr3.append(arr[j])\n",
        "  arr3.extend(arr2)\n",
        "  return arr3\n",
        "\n",
        "\n",
        "arr=[12,10,5,6,52,36]\n",
        "k=2\n",
        "print(splitArray(arr,k))\n"
      ],
      "metadata": {
        "id": "id6bWjWTqaga",
        "outputId": "3b9958c6-f00e-49f7-cce7-7b0329ca868f",
        "colab": {
          "base_uri": "https://localhost:8080/"
        }
      },
      "execution_count": 8,
      "outputs": [
        {
          "output_type": "stream",
          "name": "stdout",
          "text": [
            "[5, 6, 52, 36, 12, 10]\n"
          ]
        }
      ]
    }
  ]
}